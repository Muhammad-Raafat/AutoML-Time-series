{
 "cells": [
  {
   "cell_type": "markdown",
   "id": "bb2c4f0b",
   "metadata": {},
   "source": [
    "## import libraries"
   ]
  },
  {
   "cell_type": "code",
   "execution_count": 1,
   "id": "f714e0c6",
   "metadata": {},
   "outputs": [],
   "source": [
    "import findspark\n",
    "findspark.init()"
   ]
  },
  {
   "cell_type": "code",
   "execution_count": 2,
   "id": "a141855d",
   "metadata": {},
   "outputs": [],
   "source": [
    "import pyspark\n",
    "from pyspark.sql import SparkSession\n",
    "spark = SparkSession.builder.getOrCreate()"
   ]
  },
  {
   "cell_type": "code",
   "execution_count": 3,
   "id": "39adb63a",
   "metadata": {},
   "outputs": [
    {
     "data": {
      "text/html": [
       "<style>pre { white-space: pre !important; }</style>"
      ],
      "text/plain": [
       "<IPython.core.display.HTML object>"
      ]
     },
     "metadata": {},
     "output_type": "display_data"
    }
   ],
   "source": [
    "from IPython.display import display, HTML\n",
    "display(HTML(\"<style>pre { white-space: pre !important; }</style>\"))"
   ]
  },
  {
   "cell_type": "code",
   "execution_count": 4,
   "id": "963a161b",
   "metadata": {},
   "outputs": [],
   "source": [
    "from pyspark.sql.functions import percent_rank\n",
    "from pyspark.sql import Window\n",
    "from pyspark.sql.functions import to_date\n",
    "from pyspark import keyword_only\n",
    "from pyspark.ml import Pipeline,Estimator,Transformer\n",
    "from pyspark.sql.functions import hour, dayofweek, month"
   ]
  },
  {
   "cell_type": "code",
   "execution_count": 6,
   "id": "622ccb78",
   "metadata": {},
   "outputs": [
    {
     "data": {
      "text/plain": [
       "<module 'utils1' from 'C:\\\\Users\\\\user\\\\Downloads\\\\utils1.py'>"
      ]
     },
     "execution_count": 6,
     "metadata": {},
     "output_type": "execute_result"
    }
   ],
   "source": [
    "# importing the module containing all functions\n",
    "import importlib\n",
    "import utils1 as utl\n",
    "importlib.reload(utl)"
   ]
  },
  {
   "cell_type": "markdown",
   "id": "48aef899",
   "metadata": {},
   "source": [
    "## Estimators,Transformers and Pipeline"
   ]
  },
  {
   "cell_type": "code",
   "execution_count": 12,
   "id": "e09bad24",
   "metadata": {},
   "outputs": [],
   "source": [
    "# Estimator interface\n",
    "class Estimator_in(Estimator):\n",
    "    def _fit(df,y = None):\n",
    "        pass"
   ]
  },
  {
   "cell_type": "code",
   "execution_count": 13,
   "id": "6d0e2337",
   "metadata": {},
   "outputs": [],
   "source": [
    "#transformer interface\n",
    "class Transformer_in(Transformer):\n",
    "    def _transform(df,y = None):\n",
    "        pass"
   ]
  },
  {
   "cell_type": "markdown",
   "id": "2a410af9",
   "metadata": {},
   "source": [
    "### missing values"
   ]
  },
  {
   "cell_type": "code",
   "execution_count": 18,
   "id": "fd31afdb",
   "metadata": {},
   "outputs": [],
   "source": [
    "class MissingValuesEstimator(Estimator_in):\n",
    "    @keyword_only\n",
    "    def __init__(self, date_col=None):\n",
    "        self._date_col = date_col\n",
    "    def _fit(self, df,y = None):\n",
    "        return MissingValuesTransformer(date_col = self._date_col)"
   ]
  },
  {
   "cell_type": "code",
   "execution_count": 19,
   "id": "012f4357",
   "metadata": {},
   "outputs": [],
   "source": [
    "class MissingValuesTransformer(Transformer_in):\n",
    "    \n",
    "    @keyword_only\n",
    "    def __init__(self, date_col=None):\n",
    "        self._date_col = date_col\n",
    "        \n",
    "    def _transform(self, df,y = None):\n",
    "        df_pandas = df.toPandas()\n",
    "        df_pandas.set_index(self._date_col, inplace=True)\n",
    "        df = utl.missing_handler(df_pandas)\n",
    "        df.reset_index(inplace=True)\n",
    "        return spark.createDataFrame(df)"
   ]
  },
  {
   "cell_type": "markdown",
   "id": "242b2b96",
   "metadata": {},
   "source": [
    "### Outliers"
   ]
  },
  {
   "cell_type": "code",
   "execution_count": 20,
   "id": "fd13a577",
   "metadata": {},
   "outputs": [],
   "source": [
    "class OutlierHandlerEstimator(Estimator_in):\n",
    " \n",
    "    def _fit(self, df,y = None):\n",
    "        cappers = {}\n",
    "        df_pandas = df.toPandas()\n",
    "        cappers = utl.outlier_handler(df_pandas,cappers)\n",
    "        return OutlierHandlerTransformer(cappers)"
   ]
  },
  {
   "cell_type": "code",
   "execution_count": 21,
   "id": "ed4753fa",
   "metadata": {},
   "outputs": [],
   "source": [
    "class OutlierHandlerTransformer(Transformer_in):\n",
    "    \n",
    "    def __init__(self, cappers):\n",
    "        self._cappers = cappers\n",
    "        \n",
    "    def _transform(self, df,y = None):\n",
    "        X = df.toPandas()\n",
    "        df = utl.outlier_capper(X,self._cappers)\n",
    "        return spark.createDataFrame(df)"
   ]
  },
  {
   "cell_type": "markdown",
   "id": "531935ed",
   "metadata": {},
   "source": [
    "### OneHotEncoding"
   ]
  },
  {
   "cell_type": "code",
   "execution_count": 39,
   "id": "8d15ee63",
   "metadata": {},
   "outputs": [],
   "source": [
    "class OneHotEncnoderEstimator(Estimator_in):\n",
    "\n",
    "    def _fit(self,df,y = None):\n",
    "        df_pandas = df.toPandas()\n",
    "        categorical_cols, encoder = utl.oheesimate(df_pandas)\n",
    "        return OneHotEncnoderTransformer(categorical_cols, encoder)"
   ]
  },
  {
   "cell_type": "code",
   "execution_count": 50,
   "id": "50a96492",
   "metadata": {},
   "outputs": [],
   "source": [
    "class OneHotEncnoderTransformer(Transformer_in):\n",
    "    \n",
    "    def __init__(self, categorical_cols, encoder):\n",
    "        self._categorical_cols = categorical_cols\n",
    "        self._encoder = encoder\n",
    "        \n",
    "    def _transform(self,df,y= None):        \n",
    "        df_pandas = df.toPandas()\n",
    "        df = utl.oheeapply(df_pandas,self._categorical_cols,self._encoder)\n",
    "        return spark.createDataFrame(df)"
   ]
  },
  {
   "cell_type": "markdown",
   "id": "546890d1",
   "metadata": {},
   "source": [
    "### Stationarity"
   ]
  },
  {
   "cell_type": "code",
   "execution_count": 22,
   "id": "64723332",
   "metadata": {},
   "outputs": [],
   "source": [
    "class StationarityCheckEstimator(Estimator):\n",
    "    def _fit(self, dataset):\n",
    "        data = dataset.toPandas()\n",
    "        columns,diff=utl.get_diff(data)\n",
    "        return StationarityCheckTransformer(diff,columns)"
   ]
  },
  {
   "cell_type": "code",
   "execution_count": 23,
   "id": "5d97b5ad",
   "metadata": {},
   "outputs": [],
   "source": [
    "class StationarityCheckTransformer(Transformer):\n",
    "    def __init__(self,diff,columns):\n",
    "        self.diff=diff\n",
    "        self.columns=columns\n",
    "\n",
    "    def _transform(self,dataset):\n",
    "        data = dataset.toPandas()\n",
    "        data=utl.apply_diff(data,self.diff,self.columns) \n",
    "        return spark.createDataFrame(data)"
   ]
  },
  {
   "cell_type": "markdown",
   "id": "7c3109c7",
   "metadata": {},
   "source": [
    "### Lagged features"
   ]
  },
  {
   "cell_type": "code",
   "execution_count": 82,
   "id": "040c600f",
   "metadata": {},
   "outputs": [],
   "source": [
    "class laggerEstimator(Estimator_in):\n",
    "    @keyword_only\n",
    "    def __init__(self, max_lag= 30):\n",
    "        self._max_lag = max_lag    \n",
    "\n",
    "    def _fit(self,df,y = None):\n",
    "        sig_fet = {}\n",
    "        df_pandas = df.toPandas()\n",
    "        \n",
    "        sig_fet = utl.lagger(df_pandas,self._max_lag,sig_fet)\n",
    "        return laggerTransformer(sig_fet)"
   ]
  },
  {
   "cell_type": "code",
   "execution_count": 83,
   "id": "d70a7744",
   "metadata": {},
   "outputs": [],
   "source": [
    "class laggerTransformer(Transformer_in):\n",
    "    \n",
    "    def __init__(self, sig_fet):\n",
    "        self._sig_fet = sig_fet\n",
    "\n",
    "        \n",
    "    def _transform(self,df,y= None):        \n",
    "        df_pandas = df.toPandas()\n",
    "        df = utl.lagger_apply(df_pandas,self._sig_fet)\n",
    "        return spark.createDataFrame(df)"
   ]
  },
  {
   "cell_type": "markdown",
   "id": "d8b56718",
   "metadata": {},
   "source": [
    "### Seasonality"
   ]
  },
  {
   "cell_type": "code",
   "execution_count": 110,
   "id": "3e11808e",
   "metadata": {},
   "outputs": [],
   "source": [
    "class seasonalityEstimator(Estimator_in):\n",
    "    @keyword_only\n",
    "    def __init__(self, target,power_threshold= 2, length_threshold= 30, num_terms=3):\n",
    "        self._power_threshold = power_threshold  \n",
    "        self._length_threshold = length_threshold  \n",
    "        self._num_terms = num_terms\n",
    "        self._target = target\n",
    "        \n",
    "    def _fit(self,df,y = None):\n",
    "        df_pandas = df.toPandas()\n",
    "        significant_periods, feature_columns = utl.seasonality_fit(df_pandas ,self._target ,self._power_threshold, self._length_threshold, self._num_terms)\n",
    "\n",
    "        return seasonalityTransformer(self._target,significant_periods, feature_columns, self._num_terms)"
   ]
  },
  {
   "cell_type": "code",
   "execution_count": 111,
   "id": "bd445970",
   "metadata": {},
   "outputs": [],
   "source": [
    "class seasonalityTransformer(Transformer_in):\n",
    "    \n",
    "    def __init__(self,target, significant_periods, feature_columns, num_terms):\n",
    "        self._significant_periods = significant_periods  \n",
    "        self._feature_columns = feature_columns  \n",
    "        self._num_terms = num_terms\n",
    "        self._target = target\n",
    "\n",
    "        \n",
    "    def _transform(self,df,y= None):        \n",
    "        df_pandas = df.toPandas()\n",
    "        df = utl.seasonality_transform(df_pandas,self._target,self._significant_periods, self._feature_columns,self._num_terms)\n",
    "\n",
    "        return spark.createDataFrame(df)"
   ]
  },
  {
   "cell_type": "markdown",
   "id": "37e302ae",
   "metadata": {},
   "source": [
    "### Time features"
   ]
  },
  {
   "cell_type": "code",
   "execution_count": 14,
   "id": "f97efae3",
   "metadata": {},
   "outputs": [],
   "source": [
    "class time_estimator(Estimator_in):\n",
    "    \n",
    "    @keyword_only\n",
    "    def __init__(self, date_col=None):\n",
    "        self._date_col = date_col\n",
    "        \n",
    "    def _fit(self,df,y = None):\n",
    "        return time_transformer(date_col=self._date_col)\n"
   ]
  },
  {
   "cell_type": "code",
   "execution_count": 15,
   "id": "b250b3ac",
   "metadata": {},
   "outputs": [],
   "source": [
    "class time_transformer(Transformer_in):\n",
    "    \n",
    "    @keyword_only\n",
    "    def __init__(self, date_col=None):\n",
    "        self._date_col = date_col\n",
    "    \n",
    "    def _transform(self,df,y = None):\n",
    "        df = df.withColumn(\"hour_of_day\", hour(df[self._date_col]))\n",
    "        df = df.withColumn(\"day_of_week\", dayofweek(df[self._date_col]))\n",
    "        df = df.withColumn(\"month_of_year\", month(df[self._date_col]))\n",
    "        return df\n"
   ]
  },
  {
   "cell_type": "markdown",
   "id": "4ac12405",
   "metadata": {},
   "source": [
    "### removing nans"
   ]
  },
  {
   "cell_type": "code",
   "execution_count": 117,
   "id": "e28ccda4",
   "metadata": {},
   "outputs": [],
   "source": [
    "class dropnansEstimator(Estimator_in):\n",
    "    def _fit(self,df,y= None):\n",
    "        return dropnansTransformer()"
   ]
  },
  {
   "cell_type": "code",
   "execution_count": 118,
   "id": "d3d2e3a6",
   "metadata": {},
   "outputs": [],
   "source": [
    "class dropnansTransformer(Transformer_in):\n",
    "\n",
    "    def _transform(self,df,y= None):        \n",
    "        df = df.dropna()\n",
    "        return df"
   ]
  },
  {
   "cell_type": "markdown",
   "id": "09f78ac4",
   "metadata": {},
   "source": [
    "### removing constant features"
   ]
  },
  {
   "cell_type": "code",
   "execution_count": 52,
   "id": "e9a986e3",
   "metadata": {},
   "outputs": [],
   "source": [
    "class ConstantFeatureEstimator(Estimator_in):\n",
    "    def _fit(self, df,y = None):\n",
    "        constant_features = []\n",
    "        input_cols = df.columns\n",
    "        constant_features = utl.constantIdentifier(df,input_cols,constant_features)\n",
    "\n",
    "        return ConstantFeatureTransformer(constant_features)"
   ]
  },
  {
   "cell_type": "code",
   "execution_count": 17,
   "id": "46b7c1a4",
   "metadata": {},
   "outputs": [],
   "source": [
    "class ConstantFeatureTransformer(Transformer_in):\n",
    "    \n",
    "    def __init__(self, constant_features=None):\n",
    "        self._constant_features = constant_features\n",
    "        \n",
    "    def _transform(self,df ,y = None):\n",
    "        \n",
    "        return df.drop(*self._constant_features)"
   ]
  },
  {
   "cell_type": "markdown",
   "id": "7bbb0071",
   "metadata": {},
   "source": []
  },
  {
   "cell_type": "code",
   "execution_count": null,
   "id": "e17fca56",
   "metadata": {},
   "outputs": [],
   "source": []
  },
  {
   "cell_type": "code",
   "execution_count": null,
   "id": "abd1dcf7",
   "metadata": {},
   "outputs": [],
   "source": []
  },
  {
   "cell_type": "code",
   "execution_count": null,
   "id": "1af175ed",
   "metadata": {},
   "outputs": [],
   "source": []
  },
  {
   "cell_type": "code",
   "execution_count": null,
   "id": "a03265ab",
   "metadata": {},
   "outputs": [],
   "source": []
  },
  {
   "cell_type": "markdown",
   "id": "a39deb8a",
   "metadata": {},
   "source": [
    "# reading the data and applying the pipeline"
   ]
  },
  {
   "cell_type": "code",
   "execution_count": 128,
   "id": "10ad48a7",
   "metadata": {},
   "outputs": [],
   "source": [
    "# reading data\n",
    "df = spark.read.csv('airline-passengers.csv',header=True,inferSchema=True)\n",
    "df = df.withColumn(\"Month\", to_date(\"Month\", \"yyyy-MM-dd HH:mm:ss\"))\n",
    "\n",
    "                                             "
   ]
  },
  {
   "cell_type": "code",
   "execution_count": 129,
   "id": "9c1333cc",
   "metadata": {},
   "outputs": [],
   "source": [
    "#splitting the data into train and test\n",
    "df_copy = df.withColumn(\"rank\", percent_rank().over(Window.partitionBy().orderBy(\"Month\")))\n",
    "train_df = df_copy.where(\"rank <= .8\").drop(\"rank\")\n",
    "test_df = df_copy.where(\"rank > .8\").drop(\"rank\")   "
   ]
  },
  {
   "cell_type": "code",
   "execution_count": 130,
   "id": "c947b3c2",
   "metadata": {},
   "outputs": [],
   "source": [
    "timestamp = 'Month'\n",
    "target_col = 'Passengers'"
   ]
  },
  {
   "cell_type": "code",
   "execution_count": null,
   "id": "71a0cd25",
   "metadata": {},
   "outputs": [],
   "source": []
  },
  {
   "cell_type": "code",
   "execution_count": 131,
   "id": "5e28bd6b",
   "metadata": {},
   "outputs": [],
   "source": [
    "# instances from Estimators classes \n",
    "missing = MissingValuesEstimator(date_col = timestamp)\n",
    "outlier = OutlierHandlerEstimator()\n",
    "timed = time_estimator(date_col =timestamp)\n",
    "constremove = ConstantFeatureEstimator()\n",
    "ohe = OneHotEncnoderEstimator()\n",
    "stationarity = StationarityCheckEstimator()\n",
    "lagger = laggerEstimator(max_lag= 30)\n",
    "seasonality = seasonalityEstimator(target = target_col)\n",
    "nans_removal = dropnansEstimator()\n",
    "\n",
    "# constructing the pipeline\n",
    "pipe_line = Pipeline(stages= [missing,outlier,ohe,stationarity,nans_removal,lagger,seasonality,timed,constremove,nans_removal])\n"
   ]
  },
  {
   "cell_type": "code",
   "execution_count": null,
   "id": "b157b226",
   "metadata": {},
   "outputs": [],
   "source": []
  },
  {
   "cell_type": "code",
   "execution_count": 132,
   "id": "2c8f1102",
   "metadata": {
    "scrolled": false
   },
   "outputs": [
    {
     "name": "stdout",
     "output_type": "stream",
     "text": [
      "          Month  Passengers\n",
      "0    1949-01-01       112.0\n",
      "1    1949-02-01       118.0\n",
      "2    1949-03-01       132.0\n",
      "3    1949-04-01       129.0\n",
      "4    1949-05-01       121.0\n",
      "..          ...         ...\n",
      "110  1958-03-01       362.0\n",
      "111  1958-04-01       348.0\n",
      "112  1958-05-01       363.0\n",
      "113  1958-06-01       435.0\n",
      "114  1958-07-01       491.0\n",
      "\n",
      "[115 rows x 2 columns]\n"
     ]
    }
   ],
   "source": [
    "#fitting the pipeline to the train data \n",
    "fitted = pipe_line.fit(train_df)"
   ]
  },
  {
   "cell_type": "code",
   "execution_count": 133,
   "id": "3cf4cd30",
   "metadata": {},
   "outputs": [],
   "source": [
    "# transform the train and test\n",
    "trans_train = fitted.transform(train_df)\n",
    "trans_test = fitted.transform(test_df)"
   ]
  },
  {
   "cell_type": "code",
   "execution_count": 134,
   "id": "46a92e34",
   "metadata": {},
   "outputs": [
    {
     "name": "stdout",
     "output_type": "stream",
     "text": [
      "+----------+------------------+-------------------+----------------------+----------------------+----------------------+-------------------+-------------------+--------------------+-------------------+--------------------+--------------------+--------------------+--------------------+--------------------+--------------------+--------------------+--------------------+-----------+-----------+-------------+\n",
      "|     Month|        Passengers|   Passengers_found|lag_Passengers_found_1|lag_Passengers_found_2|lag_Passengers_found_4|          Feature_1|          Feature_2|           Feature_3|          Feature_4|           Feature_5|           Feature_6|           Feature_7|           Feature_8|           Feature_9|          Feature_10|          Feature_11|          Feature_12|hour_of_day|day_of_week|month_of_year|\n",
      "+----------+------------------+-------------------+----------------------+----------------------+----------------------+-------------------+-------------------+--------------------+-------------------+--------------------+--------------------+--------------------+--------------------+--------------------+--------------------+--------------------+--------------------+-----------+-----------+-------------+\n",
      "|1949-07-01|             148.0|               -1.0|                  22.0|                  -5.0|                   8.0| 0.8419360762137392| 0.9085791597405403| 0.13856127131321933| 0.9085791597405403| -0.7590501313272416|-0.27444938063308966| 0.13856127131321888|-0.27444938063308877| 0.40504273733952373| -0.9903538630671688|  0.9616015481841291| -0.9142977528838763|          0|          6|            7|\n",
      "|1949-08-01|             148.0|              -13.0|                  -1.0|                  22.0|                 -17.0| 0.8419360762137392| 0.9085791597405403| 0.13856127131321933| 0.9085791597405403| -0.7590501313272416|-0.27444938063308966| 0.13856127131321888|-0.27444938063308877| 0.40504273733952373| -0.9903538630671688|  0.9616015481841291| -0.9142977528838763|          0|          2|            8|\n",
      "|1949-09-01|             136.0|              -12.0|                 -13.0|                  -1.0|                  -5.0| 0.6615203834294116|  0.992184237494368|  0.8266114803672319|  0.992184237494368| 0.24761260308139596| -0.9303892614326834|  0.8266114803672316| -0.9303892614326836| 0.22058444946027422|  -0.562773009769564| -0.3665730789498124|   0.975367879651728|          0|          5|            9|\n",
      "|1949-10-01|118.99999999999999| -5.000000000000014|                 -12.0|                 -13.0|                  22.0|  0.274449380633089| 0.5278218986299074|  0.7406593291429218| 0.5278218986299074|  0.8966164165317965|  0.9952695086820974|  0.7406593291429218|  0.9952695086820974|  0.5967455423498391|  0.6718807618570106|-0.09715248369288584| -0.8024305313767643|          0|          7|           10|\n",
      "|1949-11-01|103.99999999999999|  2.000000000000014|    -5.000000000000014|                 -12.0|                  -1.0|0.05557476235348285|0.11097774630139134|  0.1660377043953585|0.11097774630139134| 0.22058444946027397|  0.3274660044984223| 0.16603770439535853| 0.32746600449842234|  0.4798034585661693|  0.9861194048993862|  0.9448629614382391|  0.8773759975905098|          0|          3|           11|\n",
      "|1949-12-01|118.00000000000001|  29.00000000000003|     2.000000000000014|    -5.000000000000014|                 -13.0|0.22058444946027397|0.43030197350842236|  0.6188209975614539|0.43030197350842236|  0.7768542750425428|  0.9722074310645552|   0.618820997561454|  0.9722074310645552|  0.9085791597405403|  0.7855320317956785| 0.23412114595409375|-0.41771271286037465|          0|          5|           12|\n",
      "|1950-01-01|             115.0|-17.000000000000043|     29.00000000000003|     2.000000000000014|                 -12.0| 0.1660377043953585| 0.3274660044984223|  0.4798034585661693| 0.3274660044984223|  0.6188209975614539|  0.8419360762137392|  0.4798034585661693|  0.8419360762137392|  0.9975855509847686|  0.8773759975905098|  0.5395772822958845| 0.06944831507254583|          0|          1|            1|\n",
      "|1950-02-01|126.00000000000001| 14.000000000000028|   -17.000000000000043|     29.00000000000003|    -5.000000000000014|0.43030197350842236| 0.7768542750425428|  0.9722074310645552| 0.7768542750425428|  0.9783398573307427| 0.45522863573183897|  0.9722074310645552|  0.4552286357318386| -0.7590501313272416| 0.23412114595409375| -0.8903745780342839| -0.6510321790296524|          0|          4|            2|\n",
      "|1950-03-01|             141.0| 3.9999999999999716|    14.000000000000028|   -17.000000000000043|     2.000000000000014| 0.7406593291429218| 0.9952695086820974|  0.5967455423498387| 0.9952695086820974|-0.19338580942452752| -0.9576936852889933|  0.5967455423498391| -0.9576936852889937|  0.9402197632153991| -0.8024305313767643|  0.2877895153711928|  0.3405683438888276|          0|          4|            3|\n",
      "|1950-04-01|             135.0|-20.999999999999986|    3.9999999999999716|    14.000000000000028|     29.00000000000003| 0.6188209975614539| 0.9722074310645552|  0.9085791597405403| 0.9722074310645552| 0.45522863573183897| -0.7590501313272416|  0.9085791597405403| -0.7590501313272416|-0.27444938063308877|-0.41771271286037465| -0.6510321790296524|  0.9616015481841291|          0|          7|            4|\n",
      "|1950-05-01|124.99999999999999| -4.000000000000014|   -20.999999999999986|    3.9999999999999716|   -17.000000000000043|0.37947044971016536|  0.702175047702382|  0.9198396757355117|  0.702175047702382|  0.9999033847063811|  0.7216960824649302|  0.9198396757355117|  0.7216960824649302| -0.3536048750581493| 0.39229449517268095| -0.6922100581144228| -0.9353948857755802|          0|          2|            5|\n",
      "|1950-06-01|             149.0|  34.00000000000003|    -4.000000000000014|   -20.999999999999986|    14.000000000000028|  0.870621767367581| 0.8566099522868119|-0.02779812355325387| 0.8566099522868119| -0.8839606919341956| 0.05557476235348251|-0.02779812355325387| 0.05557476235348251|-0.08330844825290425|  -0.999613557494554|  0.9984545286538361| -0.9965238092738643|          0|          5|            6|\n",
      "|1950-07-01|             170.0| -3.000000000000014|     34.00000000000003|    -4.000000000000014|    3.9999999999999716|  0.992184237494368|0.24761260308139596| -0.9303892614326834|0.24761260308139596|-0.47980345856616874|  0.6821113123704429| -0.9303892614326836|  0.6821113123704415| 0.43030197350842286| -0.3665730789498124| -0.7312483555785092|  0.9026850013126154|          0|          7|            7|\n",
      "|1950-08-01|             170.0|              -21.0|    -3.000000000000014|     34.00000000000003|   -20.999999999999986|  0.992184237494368|0.24761260308139596| -0.9303892614326834|0.24761260308139596|-0.47980345856616874|  0.6821113123704429| -0.9303892614326836|  0.6821113123704415| 0.43030197350842286| -0.3665730789498124| -0.7312483555785092|  0.9026850013126154|          0|          3|            8|\n",
      "|1950-09-01|             158.0|              -12.0|                 -21.0|    -3.000000000000014|    -4.000000000000014| 0.9198396757355117| 0.7216960824649302| -0.3536048750581493| 0.7216960824649302| -0.9991305743680012|  0.6615203834294118| -0.3536048750581493|  0.6615203834294118| -0.8839606919341962| -0.9353948857755802|  0.7499271846702212|  -0.467561220713627|          0|          6|            9|\n",
      "|1950-10-01|             133.0|              -13.0|                 -12.0|                 -21.0|     34.00000000000003| 0.5742088714532247|  0.940219763215399|  0.9653236002474201|  0.940219763215399|  0.6404181752996289| -0.5040074484991997|  0.9653236002474201| -0.5040074484991997| -0.7021750477023818|-0.26105621387999767| -0.8636993063892818|  0.7120043555935299|          0|          1|           10|\n",
      "|1950-11-01|             114.0|                6.0|                 -13.0|                 -12.0|    -3.000000000000014|0.11097774630139134|0.22058444946027397|  0.3274660044984223|0.22058444946027397| 0.43030197350842236|  0.6188209975614539| 0.32746600449842234|   0.618820997561454|  0.8419360762137392|  0.9448629614382391|  0.7855320317956785|  0.5395772822958845|          0|          4|           11|\n",
      "|1950-12-01|             140.0|               45.0|                   6.0|                 -13.0|                 -21.0|  0.702175047702382| 0.9999033847063811|  0.7216960824649302| 0.9999033847063811|0.027798123553254114| -0.9991305743680012|  0.7216960824649302| -0.9991305743680012|  0.6615203834294118| -0.6922100581144228|-0.04169047089045475|  0.7499271846702212|          0|          6|           12|\n",
      "|1951-01-01|             145.0|              -21.0|                  45.0|                   6.0|                 -12.0| 0.7768542750425428| 0.9783398573307427| 0.45522863573183897| 0.9783398573307427|-0.40504273733952406| -0.8106480088977175|  0.4552286357318386| -0.8106480088977169|  0.9883321219814357| -0.8903745780342839|  0.5855337784194581|-0.15231420373580534|          0|          2|            1|\n",
      "|1951-02-01|             150.0|                0.0|                 -21.0|                  45.0|                 -13.0| 0.8966164165317965| 0.7940579997330165|-0.19338580942452752| 0.7940579997330165| -0.9653236002474199| 0.37947044971016447|-0.19338580942452793|  0.3794704497101653| -0.5512284031267423| -0.9811227898246071|  0.9252038574264403|  -0.834354389684828|          0|          5|            2|\n",
      "+----------+------------------+-------------------+----------------------+----------------------+----------------------+-------------------+-------------------+--------------------+-------------------+--------------------+--------------------+--------------------+--------------------+--------------------+--------------------+--------------------+--------------------+-----------+-----------+-------------+\n",
      "only showing top 20 rows\n",
      "\n"
     ]
    }
   ],
   "source": [
    "trans_train.show()"
   ]
  },
  {
   "cell_type": "code",
   "execution_count": 135,
   "id": "faf3cada",
   "metadata": {},
   "outputs": [
    {
     "name": "stdout",
     "output_type": "stream",
     "text": [
      "+----------+----------+----------------+----------------------+----------------------+----------------------+-------------------+-------------------+--------------------+-------------------+--------------------+--------------------+--------------------+--------------------+--------------------+--------------------+--------------------+--------------------+-----------+-----------+-------------+\n",
      "|     Month|Passengers|Passengers_found|lag_Passengers_found_1|lag_Passengers_found_2|lag_Passengers_found_4|          Feature_1|          Feature_2|           Feature_3|          Feature_4|           Feature_5|           Feature_6|           Feature_7|           Feature_8|           Feature_9|          Feature_10|          Feature_11|          Feature_12|hour_of_day|day_of_week|month_of_year|\n",
      "+----------+----------+----------------+----------------------+----------------------+----------------------+-------------------+-------------------+--------------------+-------------------+--------------------+--------------------+--------------------+--------------------+--------------------+--------------------+--------------------+--------------------+-----------+-----------+-------------+\n",
      "|1959-02-01|     342.0|           -41.0|                  -4.0|                  76.0|                  56.0| 0.1660377043953585| 0.3274660044984223|  0.4798034585661693| 0.3274660044984223|  0.6188209975614539|  0.8419360762137392|  0.4798034585661693|  0.8419360762137392|  0.9975855509847686|  0.8773759975905098|  0.5395772822958845| 0.06944831507254583|          0|          1|            2|\n",
      "|1959-03-01|     406.0|            82.0|                 -41.0|                  -4.0|                  -4.0| 0.5742088714532247|  0.940219763215399|  0.9653236002474201|  0.940219763215399|  0.6404181752996289| -0.5040074484991997|  0.9653236002474201| -0.5040074484991997| -0.7021750477023818|-0.26105621387999767| -0.8636993063892818|  0.7120043555935299|          0|          1|            3|\n",
      "|1959-04-01|     396.0|           -74.0|                  82.0|                 -41.0|                  76.0| 0.4798034585661693| 0.8419360762137392|  0.9975855509847686| 0.8419360762137392|  0.9085791597405403| 0.13856127131321933|  0.9975855509847686| 0.13856127131321888| -0.9783398573307428| 0.06944831507254583| -0.9903538630671688|-0.20700512930374912|          0|          4|            4|\n",
      "|1959-05-01|     420.0|            34.0|                 -74.0|                  82.0|                  -4.0| 0.7406593291429218| 0.9952695086820974|  0.5967455423498387| 0.9952695086820974|-0.19338580942452752| -0.9576936852889933|  0.5967455423498391| -0.9576936852889937|  0.9402197632153991| -0.8024305313767643|  0.2877895153711928|  0.3405683438888276|          0|          6|            5|\n",
      "|1959-06-01|     472.0|            28.0|                  34.0|                 -74.0|                 -41.0|  0.870621767367581| 0.8566099522868119|-0.02779812355325387| 0.8566099522868119| -0.8839606919341956| 0.05557476235348251|-0.02779812355325387| 0.05557476235348251|-0.08330844825290425|  -0.999613557494554|  0.9984545286538361| -0.9965238092738643|          0|          2|            6|\n",
      "|1959-07-01|     548.0|            24.0|                  28.0|                  34.0|                  82.0|  0.940219763215399| 0.6404181752996289| -0.5040074484991997| 0.6404181752996289| -0.9837161393856412|  0.8706217673675809| -0.5040074484991997|  0.8706217673675809|  -0.999903384706381| -0.8636993063892818|  0.4919529837146531|0.013900404768315569|          0|          4|            7|\n",
      "|1959-08-01|     559.0|           -65.0|                  24.0|                  28.0|                 -74.0| 0.9576936852889933| 0.5512284031267438| -0.6404181752996287| 0.5512284031267438| -0.9198396757355121|  0.9837161393856411| -0.6404181752996287|  0.9837161393856411| -0.8706217673675805| -0.7680264062816421| 0.17972912149178805|   0.491952983714654|          0|          7|            8|\n",
      "|1959-09-01|     463.0|          -107.0|                 -65.0|                  24.0|                  34.0| 0.8419360762137392| 0.9085791597405403| 0.13856127131321933| 0.9085791597405403| -0.7590501313272416|-0.27444938063308966| 0.13856127131321888|-0.27444938063308877| 0.40504273733952373| -0.9903538630671688|  0.9616015481841291| -0.9142977528838763|          0|          3|            9|\n",
      "|1959-10-01|     407.0|            40.0|                -107.0|                 -65.0|                  28.0| 0.6188209975614539| 0.9722074310645552|  0.9085791597405403| 0.9722074310645552| 0.45522863573183897| -0.7590501313272416|  0.9085791597405403| -0.7590501313272416|-0.27444938063308877|-0.41771271286037465| -0.6510321790296524|  0.9616015481841291|          0|          5|           10|\n",
      "|1959-11-01|     362.0|            11.0|                  40.0|                -107.0|                  24.0| 0.3274660044984223| 0.6188209975614539|  0.8419360762137392| 0.6188209975614539|  0.9722074310645552|  0.9085791597405403|  0.8419360762137392|  0.9085791597405403| 0.13856127131321888|  0.5395772822958845|-0.41771271286037465| -0.9903538630671688|          0|          1|           11|\n",
      "|1959-12-01|     405.0|            88.0|                  11.0|                  40.0|                 -65.0| 0.5278218986299074| 0.8966164165317965|  0.9952695086820974| 0.8966164165317965|  0.7940579997330165|-0.19338580942452752|  0.9952695086820974|-0.19338580942452793| -0.9576936852889937|-0.09715248369288584| -0.9811227898246071|  0.2877895153711928|          0|          3|           12|\n",
      "|1960-01-01|     417.0|           -31.0|                  88.0|                  11.0|                -107.0| 0.6615203834294116|  0.992184237494368|  0.8266114803672319|  0.992184237494368| 0.24761260308139596| -0.9303892614326834|  0.8266114803672316| -0.9303892614326836| 0.22058444946027422|  -0.562773009769564| -0.3665730789498124|   0.975367879651728|          0|          6|            1|\n",
      "|1960-02-01|     391.0|           -38.0|                 -31.0|                  88.0|                  40.0|0.43030197350842236| 0.7768542750425428|  0.9722074310645552| 0.7768542750425428|  0.9783398573307427| 0.45522863573183897|  0.9722074310645552|  0.4552286357318386| -0.7590501313272416| 0.23412114595409375| -0.8903745780342839| -0.6510321790296524|          0|          2|            2|\n",
      "|1960-03-01|     419.0|            54.0|                 -38.0|                 -31.0|                  11.0|  0.702175047702382| 0.9999033847063811|  0.7216960824649302| 0.9999033847063811|0.027798123553254114| -0.9991305743680012|  0.7216960824649302| -0.9991305743680012|  0.6615203834294118| -0.6922100581144228|-0.04169047089045475|  0.7499271846702212|          0|          3|            3|\n",
      "|1960-04-01|     461.0|            14.0|                  54.0|                 -38.0|                  88.0| 0.8106480088977173| 0.9493235832361809|  0.3010740403722419| 0.9493235832361809| -0.5967455423498389| -0.5742088714532249| 0.30107404037224145| -0.5742088714532242|  0.7940579997330166| -0.9536007666806555|  0.8187088444278678| -0.6078419967886397|          0|          6|            4|\n",
      "|1960-05-01|     472.0|           -31.0|                  14.0|                  54.0|                 -31.0|  0.870621767367581| 0.8566099522868119|-0.02779812355325387| 0.8566099522868119| -0.8839606919341956| 0.05557476235348251|-0.02779812355325387| 0.05557476235348251|-0.08330844825290425|  -0.999613557494554|  0.9984545286538361| -0.9965238092738643|          0|          1|            5|\n",
      "|1960-06-01|     535.0|            52.0|                 -31.0|                  14.0|                 -38.0| 0.9198396757355117| 0.7216960824649302| -0.3536048750581493| 0.7216960824649302| -0.9991305743680012|  0.6615203834294118| -0.3536048750581493|  0.6615203834294118| -0.8839606919341962| -0.9353948857755802|  0.7499271846702212|  -0.467561220713627|          0|          4|            6|\n",
      "|1960-07-01|     622.0|            24.0|                  52.0|                 -31.0|                  54.0| 0.9837161393856411|0.35360487505814914| -0.8566099522868118|0.35360487505814914| -0.6615203834294114|  0.8839606919341958| -0.8566099522868118|  0.8839606919341958|-0.05557476235348324| -0.5159645236285011| -0.4675612207136279|   0.998454528653836|          0|          6|            7|\n",
      "|1960-08-01|     606.0|          -103.0|                  24.0|                  52.0|                  14.0| 0.9722074310645552|0.45522863573183897| -0.7590501313272416|0.45522863573183897| -0.8106480088977175|  0.9883321219814357| -0.7590501313272416|  0.9883321219814357|  -0.527821898629907| -0.6510321790296524|-0.15231420373580534|  0.8493550749402279|          0|          2|            8|\n",
      "|1960-09-01|     508.0|           -82.0|                -103.0|                  24.0|                 -31.0| 0.8966164165317965| 0.7940579997330165|-0.19338580942452752| 0.7940579997330165| -0.9653236002474199| 0.37947044971016447|-0.19338580942452793|  0.3794704497101653| -0.5512284031267423| -0.9811227898246071|  0.9252038574264403|  -0.834354389684828|          0|          5|            9|\n",
      "+----------+----------+----------------+----------------------+----------------------+----------------------+-------------------+-------------------+--------------------+-------------------+--------------------+--------------------+--------------------+--------------------+--------------------+--------------------+--------------------+--------------------+-----------+-----------+-------------+\n",
      "only showing top 20 rows\n",
      "\n"
     ]
    }
   ],
   "source": [
    "trans_test.show()"
   ]
  },
  {
   "cell_type": "code",
   "execution_count": null,
   "id": "f451e186",
   "metadata": {},
   "outputs": [],
   "source": []
  },
  {
   "cell_type": "code",
   "execution_count": null,
   "id": "47ae5b32",
   "metadata": {},
   "outputs": [],
   "source": []
  },
  {
   "cell_type": "code",
   "execution_count": null,
   "id": "9f23573f",
   "metadata": {},
   "outputs": [],
   "source": []
  },
  {
   "cell_type": "code",
   "execution_count": null,
   "id": "8a0c8fc7",
   "metadata": {},
   "outputs": [],
   "source": []
  },
  {
   "cell_type": "code",
   "execution_count": null,
   "id": "98ecc9be",
   "metadata": {},
   "outputs": [],
   "source": []
  },
  {
   "cell_type": "code",
   "execution_count": null,
   "id": "654f8892",
   "metadata": {},
   "outputs": [],
   "source": []
  },
  {
   "cell_type": "code",
   "execution_count": null,
   "id": "e905e305",
   "metadata": {},
   "outputs": [],
   "source": []
  },
  {
   "cell_type": "code",
   "execution_count": null,
   "id": "184c4474",
   "metadata": {},
   "outputs": [],
   "source": []
  },
  {
   "cell_type": "code",
   "execution_count": null,
   "id": "abeb7f6c",
   "metadata": {},
   "outputs": [],
   "source": []
  },
  {
   "cell_type": "code",
   "execution_count": null,
   "id": "28339a2c",
   "metadata": {},
   "outputs": [],
   "source": []
  },
  {
   "cell_type": "code",
   "execution_count": null,
   "id": "b799128e",
   "metadata": {},
   "outputs": [],
   "source": []
  },
  {
   "cell_type": "code",
   "execution_count": null,
   "id": "36ce245e",
   "metadata": {},
   "outputs": [],
   "source": []
  }
 ],
 "metadata": {
  "kernelspec": {
   "display_name": "Python 3 (ipykernel)",
   "language": "python",
   "name": "python3"
  },
  "language_info": {
   "codemirror_mode": {
    "name": "ipython",
    "version": 3
   },
   "file_extension": ".py",
   "mimetype": "text/x-python",
   "name": "python",
   "nbconvert_exporter": "python",
   "pygments_lexer": "ipython3",
   "version": "3.9.13"
  }
 },
 "nbformat": 4,
 "nbformat_minor": 5
}
