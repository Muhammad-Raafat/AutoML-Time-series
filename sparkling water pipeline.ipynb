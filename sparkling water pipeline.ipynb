{
  "nbformat": 4,
  "nbformat_minor": 0,
  "metadata": {
    "colab": {
      "provenance": []
    },
    "kernelspec": {
      "name": "python3",
      "display_name": "Python 3"
    },
    "language_info": {
      "name": "python"
    }
  },
  "cells": [
    {
      "cell_type": "markdown",
      "source": [
        "# importing libraries"
      ],
      "metadata": {
        "id": "Tf6upyqXLZDo"
      }
    },
    {
      "cell_type": "code",
      "execution_count": null,
      "metadata": {
        "colab": {
          "base_uri": "https://localhost:8080/",
          "height": 297
        },
        "id": "AtJV8Bn0U3lJ",
        "outputId": "af74cd1e-71f0-4bc9-dcbd-b6d851e87173"
      },
      "outputs": [
        {
          "output_type": "stream",
          "name": "stdout",
          "text": [
            "\u001b[2K     \u001b[90m━━━━━━━━━━━━━━━━━━━━━━━━━━━━━━━━━━━━━━━\u001b[0m \u001b[32m310.8/310.8 MB\u001b[0m \u001b[31m4.0 MB/s\u001b[0m eta \u001b[36m0:00:00\u001b[0m\n",
            "\u001b[?25h  Preparing metadata (setup.py) ... \u001b[?25l\u001b[?25hdone\n",
            "\u001b[2K     \u001b[90m━━━━━━━━━━━━━━━━━━━━━━━━━━━━━━━━━━━━━━\u001b[0m \u001b[32m154.7/154.7 kB\u001b[0m \u001b[31m16.4 MB/s\u001b[0m eta \u001b[36m0:00:00\u001b[0m\n",
            "\u001b[?25h  Building wheel for pyspark (setup.py) ... \u001b[?25l\u001b[?25hdone\n",
            "--2023-06-23 20:20:59--  https://repos.spark-packages.org/graphframes/graphframes/0.8.2-spark3.0-s_2.12/graphframes-0.8.2-spark3.0-s_2.12.jar\n",
            "Resolving repos.spark-packages.org (repos.spark-packages.org)... 18.154.132.96, 18.154.132.50, 18.154.132.57, ...\n",
            "Connecting to repos.spark-packages.org (repos.spark-packages.org)|18.154.132.96|:443... connected.\n",
            "HTTP request sent, awaiting response... 200 OK\n",
            "Length: 247882 (242K) [binary/octet-stream]\n",
            "Saving to: ‘/content/spark-3.0.2-bin-hadoop2.7/jars/graphframes-0.8.2-spark3.0-s_2.12.jar’\n",
            "\n",
            "graphframes-0.8.2-s 100%[===================>] 242.07K  --.-KB/s    in 0.05s   \n",
            "\n",
            "2023-06-23 20:21:00 (4.83 MB/s) - ‘/content/spark-3.0.2-bin-hadoop2.7/jars/graphframes-0.8.2-spark3.0-s_2.12.jar’ saved [247882/247882]\n",
            "\n"
          ]
        },
        {
          "output_type": "display_data",
          "data": {
            "text/plain": [
              "<IPython.core.display.HTML object>"
            ],
            "text/html": [
              "<style>pre { white-space: pre !important; }</style>"
            ]
          },
          "metadata": {}
        }
      ],
      "source": [
        "!apt-get install openjdk-11-jdk-headless -qq > /dev/null\n",
        "!wget -q https://bitbucket.org/habedi/datasets/raw/b6769c4664e7ff68b001e2f43bc517888cbe3642/spark/spark-3.0.2-bin-hadoop2.7.tgz\n",
        "!tar xf spark-3.0.2-bin-hadoop2.7.tgz\n",
        "!rm -rf spark-3.0.2-bin-hadoop2.7.tgz*\n",
        "!pip -q install findspark pyspark graphframes\n",
        "!wget https://repos.spark-packages.org/graphframes/graphframes/0.8.2-spark3.0-s_2.12/graphframes-0.8.2-spark3.0-s_2.12.jar -P /content/spark-3.0.2-bin-hadoop2.7/jars/\n",
        "!cp /content/spark-3.0.2-bin-hadoop2.7/jars/graphframes-0.8.2-spark3.0-s_2.12.jar /content/spark-3.0.2-bin-hadoop2.7/graphframes-0.8.2-spark3.0-s_2.12.zip\n",
        "\n",
        "import os\n",
        "\n",
        "os.environ[\"JAVA_HOME\"] = \"/usr/lib/jvm/java-11-openjdk-amd64\"\n",
        "os.environ[\"SPARK_HOME\"] = \"/content/spark-3.0.2-bin-hadoop2.7\"\n",
        "os.environ[\"HADOOP_HOME\"] = os.environ[\"SPARK_HOME\"]\n",
        "\n",
        "os.environ[\"PYSPARK_DRIVER_PYTHON\"] = \"jupyter\"\n",
        "os.environ[\"PYSPARK_DRIVER_PYTHON_OPTS\"] = \"notebook\"\n",
        "os.environ[\"PYSPARK_SUBMIT_ARGS\"] = \"--master local[*] pyspark-shell\"\n",
        "\n",
        "import findspark\n",
        "findspark.init()\n",
        "\n",
        "!export PYSPARK_SUBMIT_ARGS=\"--master local[*] pyspark-shell\"\n",
        "!export PYSPARK_DRIVER_PYTHON=jupyter\n",
        "!export PYSPARK_DRIVER_PYTHON_OPTS=notebook\n",
        "\n",
        "\n",
        "from pyspark.sql import SparkSession\n",
        "from graphframes import *\n",
        "\n",
        "spark = SparkSession.builder.master(\"local[*]\").appName(\"GraphFrames\").getOrCreate()\n",
        "\n",
        "\n",
        "os.environ[\"PYSPARK_SUBMIT_ARGS\"] = \"--packages graphframes:graphframes:0.8.1-spark3.0-s_2.12 pyspark-shell\"\n",
        "\n",
        "\n",
        "from IPython.display import display, HTML\n",
        "display(HTML(\"<style>pre { white-space: pre !important; }</style>\"))"
      ]
    },
    {
      "cell_type": "code",
      "source": [
        "import pyspark"
      ],
      "metadata": {
        "id": "IXTtc0CnYWvf"
      },
      "execution_count": null,
      "outputs": []
    },
    {
      "cell_type": "code",
      "source": [
        "pip install h2o"
      ],
      "metadata": {
        "colab": {
          "base_uri": "https://localhost:8080/"
        },
        "id": "EzRYR-Zuau1s",
        "outputId": "6c4efd94-2738-4943-da91-106ff55779c4"
      },
      "execution_count": null,
      "outputs": [
        {
          "output_type": "stream",
          "name": "stdout",
          "text": [
            "Looking in indexes: https://pypi.org/simple, https://us-python.pkg.dev/colab-wheels/public/simple/\n",
            "Collecting h2o\n",
            "  Downloading h2o-3.40.0.4.tar.gz (177.6 MB)\n",
            "\u001b[2K     \u001b[90m━━━━━━━━━━━━━━━━━━━━━━━━━━━━━━━━━━━━━━━\u001b[0m \u001b[32m177.6/177.6 MB\u001b[0m \u001b[31m7.2 MB/s\u001b[0m eta \u001b[36m0:00:00\u001b[0m\n",
            "\u001b[?25h  Preparing metadata (setup.py) ... \u001b[?25l\u001b[?25hdone\n",
            "Requirement already satisfied: requests in /usr/local/lib/python3.10/dist-packages (from h2o) (2.27.1)\n",
            "Requirement already satisfied: tabulate in /usr/local/lib/python3.10/dist-packages (from h2o) (0.8.10)\n",
            "Requirement already satisfied: future in /usr/local/lib/python3.10/dist-packages (from h2o) (0.18.3)\n",
            "Requirement already satisfied: urllib3<1.27,>=1.21.1 in /usr/local/lib/python3.10/dist-packages (from requests->h2o) (1.26.16)\n",
            "Requirement already satisfied: certifi>=2017.4.17 in /usr/local/lib/python3.10/dist-packages (from requests->h2o) (2023.5.7)\n",
            "Requirement already satisfied: charset-normalizer~=2.0.0 in /usr/local/lib/python3.10/dist-packages (from requests->h2o) (2.0.12)\n",
            "Requirement already satisfied: idna<4,>=2.5 in /usr/local/lib/python3.10/dist-packages (from requests->h2o) (3.4)\n",
            "Building wheels for collected packages: h2o\n",
            "  Building wheel for h2o (setup.py) ... \u001b[?25l\u001b[?25hdone\n",
            "  Created wheel for h2o: filename=h2o-3.40.0.4-py2.py3-none-any.whl size=177697886 sha256=e367f423ce76d2259de2c924cae5fa4dcd5679cd37d7892f948586a908a2ec44\n",
            "  Stored in directory: /root/.cache/pip/wheels/43/f2/b0/5bb4d702a0467e82d77c45088db3eef25114c26b0eec8e7f6a\n",
            "Successfully built h2o\n",
            "Installing collected packages: h2o\n",
            "Successfully installed h2o-3.40.0.4\n"
          ]
        }
      ]
    },
    {
      "cell_type": "code",
      "source": [
        "pip install h2o_pysparkling_3.0"
      ],
      "metadata": {
        "colab": {
          "base_uri": "https://localhost:8080/"
        },
        "id": "Qp5mmjnsTTU-",
        "outputId": "e01ff8f0-c67b-458b-f8cc-0c3f004e6d20"
      },
      "execution_count": null,
      "outputs": [
        {
          "output_type": "stream",
          "name": "stdout",
          "text": [
            "Looking in indexes: https://pypi.org/simple, https://us-python.pkg.dev/colab-wheels/public/simple/\n",
            "Collecting h2o_pysparkling_3.0\n",
            "  Downloading h2o_pysparkling_3.0-3.40.0.4-1.tar.gz (161.7 MB)\n",
            "\u001b[2K     \u001b[90m━━━━━━━━━━━━━━━━━━━━━━━━━━━━━━━━━━━━━━━\u001b[0m \u001b[32m161.7/161.7 MB\u001b[0m \u001b[31m4.8 MB/s\u001b[0m eta \u001b[36m0:00:00\u001b[0m\n",
            "\u001b[?25h  Preparing metadata (setup.py) ... \u001b[?25l\u001b[?25hdone\n",
            "Requirement already satisfied: requests in /usr/local/lib/python3.10/dist-packages (from h2o_pysparkling_3.0) (2.27.1)\n",
            "Requirement already satisfied: tabulate in /usr/local/lib/python3.10/dist-packages (from h2o_pysparkling_3.0) (0.8.10)\n",
            "Requirement already satisfied: future in /usr/local/lib/python3.10/dist-packages (from h2o_pysparkling_3.0) (0.18.3)\n",
            "Requirement already satisfied: urllib3<1.27,>=1.21.1 in /usr/local/lib/python3.10/dist-packages (from requests->h2o_pysparkling_3.0) (1.26.16)\n",
            "Requirement already satisfied: certifi>=2017.4.17 in /usr/local/lib/python3.10/dist-packages (from requests->h2o_pysparkling_3.0) (2023.5.7)\n",
            "Requirement already satisfied: charset-normalizer~=2.0.0 in /usr/local/lib/python3.10/dist-packages (from requests->h2o_pysparkling_3.0) (2.0.12)\n",
            "Requirement already satisfied: idna<4,>=2.5 in /usr/local/lib/python3.10/dist-packages (from requests->h2o_pysparkling_3.0) (3.4)\n",
            "Building wheels for collected packages: h2o_pysparkling_3.0\n",
            "  Building wheel for h2o_pysparkling_3.0 (setup.py) ... \u001b[?25l\u001b[?25hdone\n",
            "  Created wheel for h2o_pysparkling_3.0: filename=h2o_pysparkling_3.0-3.40.0.4.post1-py2.py3-none-any.whl size=161993186 sha256=acad92e1411289ec6c1b3201b7f74f3fbb2c3a0629565895190653691ca44e4d\n",
            "  Stored in directory: /root/.cache/pip/wheels/63/92/8e/bf03db7ffd338c0b2fea560dc22d736329a7a3f9281e4a3dc0\n",
            "Successfully built h2o_pysparkling_3.0\n",
            "Installing collected packages: h2o_pysparkling_3.0\n",
            "Successfully installed h2o_pysparkling_3.0-3.40.0.4.post1\n"
          ]
        }
      ]
    },
    {
      "cell_type": "code",
      "source": [
        "import h2o\n",
        "from pysparkling import H2OContext\n",
        "from pyspark.sql.functions import percent_rank\n",
        "from pyspark.sql import Window\n",
        "from pyspark.sql.functions import to_date\n",
        "from pyspark import keyword_only\n",
        "from pyspark.ml import Pipeline,Estimator,Transformer\n",
        "from pyspark.sql.functions import hour, dayofweek, month\n",
        "from pyspark.sql.functions import monotonically_increasing_id\n",
        "from pyspark.ml.evaluation import RegressionEvaluator\n",
        "import pandas as pd\n",
        "from sklearn.metrics import mean_squared_error\n",
        "import numpy as np\n",
        "import matplotlib.pyplot as plt\n",
        "import warnings\n",
        "from pysparkling.ml import H2OAutoML\n",
        "import numpy as np\n",
        "import matplotlib.pyplot as plt\n",
        "warnings.filterwarnings(\"ignore\")\n",
        "hc = H2OContext.getOrCreate()"
      ],
      "metadata": {
        "id": "rUyHksMbU6Ya"
      },
      "execution_count": null,
      "outputs": []
    },
    {
      "cell_type": "code",
      "execution_count": null,
      "metadata": {
        "id": "622ccb78",
        "outputId": "28d9755d-f07a-4701-b358-2b53acbd2ca8",
        "colab": {
          "base_uri": "https://localhost:8080/"
        }
      },
      "outputs": [
        {
          "output_type": "execute_result",
          "data": {
            "text/plain": [
              "<module 'utils1' from '/content/utils1.py'>"
            ]
          },
          "metadata": {},
          "execution_count": 194
        }
      ],
      "source": [
        "# importing the module containing all functions\n",
        "import importlib\n",
        "import utils1 as utl\n",
        "importlib.reload(utl)"
      ]
    },
    {
      "cell_type": "markdown",
      "metadata": {
        "id": "48aef899"
      },
      "source": [
        "## Estimators,Transformers and Pipeline"
      ]
    },
    {
      "cell_type": "code",
      "execution_count": null,
      "metadata": {
        "id": "e09bad24"
      },
      "outputs": [],
      "source": [
        "# Estimator interface\n",
        "class Estimator_in(Estimator):\n",
        "    def _fit(df,y = None):\n",
        "        pass"
      ]
    },
    {
      "cell_type": "code",
      "execution_count": null,
      "metadata": {
        "id": "6d0e2337"
      },
      "outputs": [],
      "source": [
        "#transformer interface\n",
        "class Transformer_in(Transformer):\n",
        "    def _transform(df,y = None):\n",
        "        pass"
      ]
    },
    {
      "cell_type": "markdown",
      "metadata": {
        "id": "2a410af9"
      },
      "source": [
        "### missing values"
      ]
    },
    {
      "cell_type": "code",
      "execution_count": null,
      "metadata": {
        "id": "fd31afdb"
      },
      "outputs": [],
      "source": [
        "\n",
        "class MissingValuesEstimator(Estimator_in):\n",
        "    @keyword_only\n",
        "    def __init__(self, date_col=None):\n",
        "        self._date_col = date_col\n",
        "    def _fit(self, df,y = None):\n",
        "        return MissingValuesTransformer(date_col = self._date_col)"
      ]
    },
    {
      "cell_type": "code",
      "execution_count": null,
      "metadata": {
        "id": "012f4357"
      },
      "outputs": [],
      "source": [
        "class MissingValuesTransformer(Transformer_in):\n",
        "\n",
        "    @keyword_only\n",
        "    def __init__(self, date_col=None):\n",
        "        self._date_col = date_col\n",
        "\n",
        "    def _transform(self, df,y = None):\n",
        "        df_pandas = df.toPandas()\n",
        "        df_pandas.set_index(self._date_col, inplace=True)\n",
        "        df = utl.missing_handler(df_pandas)\n",
        "        df.reset_index(inplace=True)\n",
        "        return spark.createDataFrame(df)"
      ]
    },
    {
      "cell_type": "markdown",
      "metadata": {
        "id": "242b2b96"
      },
      "source": [
        "### Outliers"
      ]
    },
    {
      "cell_type": "code",
      "execution_count": null,
      "metadata": {
        "id": "fd13a577"
      },
      "outputs": [],
      "source": [
        "\n",
        "class OutlierHandlerEstimator(Estimator_in):\n",
        "\n",
        "    def _fit(self, df,y = None):\n",
        "        cappers = {}\n",
        "        df_pandas = df.toPandas()\n",
        "        cappers = utl.outlier_handler(df_pandas,cappers)\n",
        "        return OutlierHandlerTransformer(cappers)"
      ]
    },
    {
      "cell_type": "code",
      "execution_count": null,
      "metadata": {
        "id": "ed4753fa"
      },
      "outputs": [],
      "source": [
        "class OutlierHandlerTransformer(Transformer_in):\n",
        "\n",
        "    def __init__(self, cappers):\n",
        "        self._cappers = cappers\n",
        "\n",
        "    def _transform(self, df,y = None):\n",
        "        X = df.toPandas()\n",
        "        df = utl.outlier_capper(X,self._cappers)\n",
        "        return spark.createDataFrame(df)"
      ]
    },
    {
      "cell_type": "markdown",
      "metadata": {
        "id": "531935ed"
      },
      "source": [
        "### OneHotEncoding"
      ]
    },
    {
      "cell_type": "code",
      "execution_count": null,
      "metadata": {
        "id": "8d15ee63"
      },
      "outputs": [],
      "source": [
        "\n",
        "class OneHotEncnoderEstimator(Estimator_in):\n",
        "\n",
        "    def _fit(self,df,y = None):\n",
        "        df_pandas = df.toPandas()\n",
        "        categorical_cols, encoder = utl.oheesimate(df_pandas)\n",
        "        return OneHotEncnoderTransformer(categorical_cols, encoder)"
      ]
    },
    {
      "cell_type": "code",
      "execution_count": null,
      "metadata": {
        "id": "50a96492"
      },
      "outputs": [],
      "source": [
        "class OneHotEncnoderTransformer(Transformer_in):\n",
        "\n",
        "    def __init__(self, categorical_cols, encoder):\n",
        "        self._categorical_cols = categorical_cols\n",
        "        self._encoder = encoder\n",
        "\n",
        "    def _transform(self,df,y= None):\n",
        "        df_pandas = df.toPandas()\n",
        "        df = utl.oheeapply(df_pandas,self._categorical_cols,self._encoder)\n",
        "        return spark.createDataFrame(df)"
      ]
    },
    {
      "cell_type": "markdown",
      "metadata": {
        "id": "546890d1"
      },
      "source": [
        "### Stationarity"
      ]
    },
    {
      "cell_type": "code",
      "execution_count": null,
      "metadata": {
        "id": "64723332"
      },
      "outputs": [],
      "source": [
        "class StationarityCheckEstimator(Estimator):\n",
        "    def __init__(self,target = None):\n",
        "        self._target=target\n",
        "\n",
        "    def _fit(self, dataset):\n",
        "        data = dataset.toPandas()\n",
        "        columns,diff=utl.get_diff(data,self._target)\n",
        "        return StationarityCheckTransformer(diff,columns)"
      ]
    },
    {
      "cell_type": "code",
      "execution_count": null,
      "metadata": {
        "id": "5d97b5ad"
      },
      "outputs": [],
      "source": [
        "class StationarityCheckTransformer(Transformer):\n",
        "    def __init__(self,diff,columns):\n",
        "        self.diff=diff\n",
        "        self.columns=columns\n",
        "\n",
        "    def _transform(self,dataset):\n",
        "        data = dataset.toPandas()\n",
        "        data=utl.apply_diff(data,self.diff,self.columns)\n",
        "        return spark.createDataFrame(data)"
      ]
    },
    {
      "cell_type": "markdown",
      "metadata": {
        "id": "7c3109c7"
      },
      "source": [
        "### Lagged features"
      ]
    },
    {
      "cell_type": "code",
      "execution_count": null,
      "metadata": {
        "id": "040c600f"
      },
      "outputs": [],
      "source": [
        "class laggerEstimator(Estimator_in):\n",
        "    @keyword_only\n",
        "    def __init__(self, max_lag= 30):\n",
        "        self._max_lag = max_lag\n",
        "\n",
        "    def _fit(self,df,y = None):\n",
        "        sig_fet = {}\n",
        "        df_pandas = df.toPandas()\n",
        "\n",
        "        sig_fet = utl.lagger(df_pandas,self._max_lag,sig_fet)\n",
        "        return laggerTransformer(sig_fet)"
      ]
    },
    {
      "cell_type": "code",
      "execution_count": null,
      "metadata": {
        "id": "d70a7744"
      },
      "outputs": [],
      "source": [
        "class laggerTransformer(Transformer_in):\n",
        "\n",
        "    def __init__(self, sig_fet):\n",
        "        self._sig_fet = sig_fet\n",
        "\n",
        "\n",
        "    def _transform(self,df,y= None):\n",
        "        df_pandas = df.toPandas()\n",
        "        df = utl.lagger_apply(df_pandas,self._sig_fet)\n",
        "        return spark.createDataFrame(df)"
      ]
    },
    {
      "cell_type": "markdown",
      "metadata": {
        "id": "d8b56718"
      },
      "source": [
        "### Seasonality"
      ]
    },
    {
      "cell_type": "code",
      "execution_count": null,
      "metadata": {
        "id": "rQNhaiiTdUSe"
      },
      "outputs": [],
      "source": [
        "class seasonalityEstimator(Estimator_in):\n",
        "    @keyword_only\n",
        "    def __init__(self,period = None):\n",
        "        self._period = period\n",
        "\n",
        "    def _fit(self, df, y=None):\n",
        "        return seasonalityTransformer(period= self._period)"
      ]
    },
    {
      "cell_type": "code",
      "execution_count": null,
      "metadata": {
        "id": "638XuAs3dUSk"
      },
      "outputs": [],
      "source": [
        "class seasonalityTransformer(Transformer_in):\n",
        "\n",
        "    def __init__(self,period = None):\n",
        "        self._period = period\n",
        "\n",
        "\n",
        "    def _transform(self,df,y= None):\n",
        "        df_pandas = df.toPandas()\n",
        "        df = utl.seasonality_transform(df_pandas,self._period)\n",
        "\n",
        "        return spark.createDataFrame(df)"
      ]
    },
    {
      "cell_type": "markdown",
      "metadata": {
        "id": "37e302ae"
      },
      "source": [
        "### Time features"
      ]
    },
    {
      "cell_type": "code",
      "execution_count": null,
      "metadata": {
        "id": "f97efae3"
      },
      "outputs": [],
      "source": [
        "class time_estimator(Estimator_in):\n",
        "\n",
        "    @keyword_only\n",
        "    def __init__(self, date_col=None):\n",
        "        self._date_col = date_col\n",
        "\n",
        "    def _fit(self,df,y = None):\n",
        "        return time_transformer(date_col=self._date_col)\n"
      ]
    },
    {
      "cell_type": "code",
      "execution_count": null,
      "metadata": {
        "id": "b250b3ac"
      },
      "outputs": [],
      "source": [
        "class time_transformer(Transformer_in):\n",
        "\n",
        "    @keyword_only\n",
        "    def __init__(self, date_col=None):\n",
        "        self._date_col = date_col\n",
        "\n",
        "    def _transform(self,df,y = None):\n",
        "        df = df.withColumn(\"hour_of_day\", hour(df[self._date_col]))\n",
        "        df = df.withColumn(\"day_of_week\", dayofweek(df[self._date_col]))\n",
        "        df = df.withColumn(\"month_of_year\", month(df[self._date_col]))\n",
        "        return df\n"
      ]
    },
    {
      "cell_type": "code",
      "source": [],
      "metadata": {
        "id": "PJ4kKOBaY8va"
      },
      "execution_count": null,
      "outputs": []
    },
    {
      "cell_type": "markdown",
      "source": [
        "# rolling mean"
      ],
      "metadata": {
        "id": "q08zpVuNY9sZ"
      }
    },
    {
      "cell_type": "code",
      "source": [
        "class rolling_meanEstimator(Estimator_in):\n",
        "    def __init__(self, target = None,window_size = None):\n",
        "        self._target = target\n",
        "        self._window_size = window_size\n",
        "    def _fit(self,df,y= None):\n",
        "        return rolling_meanTransformer(self._target,self._window_size)"
      ],
      "metadata": {
        "id": "3QV6qoxQZBIM"
      },
      "execution_count": null,
      "outputs": []
    },
    {
      "cell_type": "code",
      "source": [
        "class rolling_meanTransformer(Transformer_in):\n",
        "    def __init__(self, target = None,window_size = None):\n",
        "        self._target = target\n",
        "        self._window_size = window_size\n",
        "    def _transform(self,df,y= None):\n",
        "        X = df.toPandas()\n",
        "        rolling_avg = X[self._target].rolling(window=self._window_size).mean()\n",
        "        X['rolling_avg'] = rolling_avg.shift(1)\n",
        "\n",
        "        return spark.createDataFrame(X)"
      ],
      "metadata": {
        "id": "q51Y3_kwZBLf"
      },
      "execution_count": null,
      "outputs": []
    },
    {
      "cell_type": "code",
      "source": [],
      "metadata": {
        "id": "Tjvu7NwIY80_"
      },
      "execution_count": null,
      "outputs": []
    },
    {
      "cell_type": "markdown",
      "metadata": {
        "id": "4ac12405"
      },
      "source": [
        "### removing nans"
      ]
    },
    {
      "cell_type": "code",
      "execution_count": null,
      "metadata": {
        "id": "e28ccda4"
      },
      "outputs": [],
      "source": [
        "class dropnansEstimator(Estimator_in):\n",
        "    def _fit(self,df,y= None):\n",
        "        print(df)\n",
        "        return dropnansTransformer()"
      ]
    },
    {
      "cell_type": "code",
      "execution_count": null,
      "metadata": {
        "id": "d3d2e3a6"
      },
      "outputs": [],
      "source": [
        "class dropnansTransformer(Transformer_in):\n",
        "\n",
        "    def _transform(self,df,y= None):\n",
        "        df = df.dropna()\n",
        "        return df"
      ]
    },
    {
      "cell_type": "markdown",
      "metadata": {
        "id": "09f78ac4"
      },
      "source": [
        "### removing constant features"
      ]
    },
    {
      "cell_type": "code",
      "execution_count": null,
      "metadata": {
        "id": "e9a986e3"
      },
      "outputs": [],
      "source": [
        "class ConstantFeatureEstimator(Estimator_in):\n",
        "    def _fit(self, df,y = None):\n",
        "        constant_features = []\n",
        "        input_cols = df.columns\n",
        "        constant_features = utl.constantIdentifier(df,input_cols,constant_features)\n",
        "\n",
        "        return ConstantFeatureTransformer(constant_features)"
      ]
    },
    {
      "cell_type": "code",
      "execution_count": null,
      "metadata": {
        "id": "46b7c1a4"
      },
      "outputs": [],
      "source": [
        "class ConstantFeatureTransformer(Transformer_in):\n",
        "\n",
        "    def __init__(self, constant_features=None):\n",
        "        self._constant_features = constant_features\n",
        "\n",
        "    def _transform(self,df ,y = None):\n",
        "\n",
        "        return df.drop(*self._constant_features)"
      ]
    },
    {
      "cell_type": "code",
      "source": [],
      "metadata": {
        "id": "qr4VXCvfdHV5"
      },
      "execution_count": null,
      "outputs": []
    },
    {
      "cell_type": "markdown",
      "source": [
        "# Sparkling water"
      ],
      "metadata": {
        "id": "-e9z2gULdJj5"
      }
    },
    {
      "cell_type": "code",
      "source": [
        "class SparklingwaterEstimator(Estimator_in):\n",
        "\n",
        "    @keyword_only\n",
        "    def __init__(self, target=None,date_col = None,metric = None):\n",
        "        self._target = target\n",
        "        self._date_col = date_col\n",
        "        self._metric = metric\n",
        "        self._automl = None\n",
        "\n",
        "    def _fit(self, df,y = None):\n",
        "        self._automl = H2OAutoML(maxRuntimeSecs=180,labelCol=self._target, ignoredCols=[self._target,self._date_col,'ordered'])\n",
        "        self._automl.setSortMetric(self._metric)\n",
        "        model = self._automl.fit(df)\n",
        "\n",
        "        return SparklingwaterTransformer(model,self._date_col,self._target)\n",
        "    def getleaderboard(self):\n",
        "      leaderboard = self._automl.getLeaderboard()\n",
        "      return leaderboard"
      ],
      "metadata": {
        "id": "bnBY2E5JU6uB"
      },
      "execution_count": null,
      "outputs": []
    },
    {
      "cell_type": "code",
      "source": [
        "class SparklingwaterTransformer(Transformer_in):\n",
        "\n",
        "    def __init__(self, model=None, date_col = None,target = None):\n",
        "        self._target = target\n",
        "        self._date_col = date_col\n",
        "        self._model = model\n",
        "\n",
        "    def _transform(self,df ,y = None):\n",
        "        df_2 = self._model.transform(df)\n",
        "        return df_2"
      ],
      "metadata": {
        "id": "gxUvzzpHU6xD"
      },
      "execution_count": null,
      "outputs": []
    },
    {
      "cell_type": "code",
      "execution_count": null,
      "metadata": {
        "id": "1af175ed"
      },
      "outputs": [],
      "source": []
    },
    {
      "cell_type": "code",
      "source": [],
      "metadata": {
        "id": "KPG8J1YipA3s"
      },
      "execution_count": null,
      "outputs": []
    },
    {
      "cell_type": "markdown",
      "metadata": {
        "id": "a39deb8a"
      },
      "source": [
        "# reading the data and applying the pipeline"
      ]
    },
    {
      "cell_type": "code",
      "source": [],
      "metadata": {
        "id": "t9ERvepbOad2"
      },
      "execution_count": null,
      "outputs": []
    },
    {
      "cell_type": "code",
      "source": [
        "path = '/content/drive/MyDrive/Auto-Ml-Project/Datasets/Time Series Data - ITI/Univariate/RiverFlowDaily.csv'\n",
        "timestamp = 'Timestamp'\n",
        "target_col = 'RiverFlow'\n",
        "period = 30"
      ],
      "metadata": {
        "id": "NKvDWKN99jFO"
      },
      "execution_count": null,
      "outputs": []
    },
    {
      "cell_type": "code",
      "source": [],
      "metadata": {
        "id": "GK3BdHS4g7j4"
      },
      "execution_count": null,
      "outputs": []
    },
    {
      "cell_type": "code",
      "source": [
        "def apply_pipeline(path,timestamp,target_col,period):\n",
        "  # reading data\n",
        "  df_pre = spark.read.csv(path,header=True,inferSchema=True)\n",
        "  df_pre = df_pre.withColumn(timestamp, to_date(timestamp))\n",
        "  df_pandas = df_pre.toPandas()\n",
        "  df_pandas = df_pandas.set_index(timestamp)\n",
        "  df_pandas.index = pd.to_datetime(df_pandas.index)\n",
        "\n",
        "  seasonality_result = utl.detect_seasonality(df_pandas, target_col)\n",
        "  df = utl.preprocess_seasonality(df_pandas,target_col,seasonality_result)\n",
        "  df = spark.createDataFrame(df)\n",
        "  df = df.withColumn(\"ordered\", monotonically_increasing_id()+1)\n",
        "  #splitting the data into train and test\n",
        "  df_copy = df.withColumn(\"rank\", percent_rank().over(Window.partitionBy().orderBy(timestamp)))\n",
        "  train_df = df_copy.where(\"rank <= .8\").drop(\"rank\")\n",
        "  test_df = df_copy.where(\"rank > .8\").drop(\"rank\")\n",
        "\n",
        "  # instances from Estimators classes\n",
        "  missing = MissingValuesEstimator(date_col = timestamp)\n",
        "  outlier = OutlierHandlerEstimator()\n",
        "  timed = time_estimator(date_col =timestamp)\n",
        "  constremove = ConstantFeatureEstimator()\n",
        "  ohe = OneHotEncnoderEstimator()\n",
        "  rolling = rolling_meanEstimator(target = target_col,window_size = 5)\n",
        "  stationarity = StationarityCheckEstimator(target = target_col)\n",
        "  lagger = laggerEstimator(max_lag= 25)\n",
        "  seasonality = seasonalityEstimator(period = period)\n",
        "  nans_removal = dropnansEstimator()\n",
        "\n",
        "\n",
        "\n",
        "  # constructing the pipeline\n",
        "  pipe_line = Pipeline(stages= [missing,outlier,ohe,rolling,stationarity,seasonality,nans_removal,lagger,timed,constremove,nans_removal])\n",
        "\n",
        "\n",
        "  fitted = pipe_line.fit(train_df)\n",
        "  # transform the train and test\n",
        "  trans_train = fitted.transform(train_df)\n",
        "  trans_test = fitted.transform(test_df)\n",
        "\n",
        "  sparkling = SparklingwaterEstimator(target=target_col,date_col = timestamp,metric = 'RMSE')\n",
        "  pipe_line_2 = Pipeline(stages= [sparkling])\n",
        "  fitted2 = pipe_line_2.fit(trans_train)\n",
        "  leaderboard = sparkling.getleaderboard()\n",
        "  leaderboard = leaderboard.toPandas()[['model_id','rmse','mse']]\n",
        "  df_final = fitted2.transform(trans_test)\n",
        "\n",
        "  df_train_pandas = trans_train.toPandas()\n",
        "  df_test_pandas= df_final.toPandas()\n",
        "\n",
        "  if seasonality_result == 'multiplicative':\n",
        "      df_train_pandas[target_col] = np.exp(df_train_pandas[target_col])\n",
        "\n",
        "  df_test_pandas = utl.check_log(df_test_pandas, target_col, seasonality_result)\n",
        "  train_df_pandas = df_train_pandas[[timestamp,target_col]]\n",
        "  test_df_pandas = df_test_pandas[[timestamp,target_col,'prediction']]\n",
        "\n",
        "  rmse = mean_squared_error(test_df_pandas[target_col],test_df_pandas['prediction'],squared = False)\n",
        "\n",
        "  return train_df_pandas,test_df_pandas,leaderboard,seasonality_result,rmse"
      ],
      "metadata": {
        "id": "SWGJ7DB6Oauw"
      },
      "execution_count": null,
      "outputs": []
    },
    {
      "cell_type": "code",
      "source": [
        "train_df_pandas,test_df_pandas,leaderboard,seasonality_result,rmse =apply_pipeline(path,timestamp,target_col)"
      ],
      "metadata": {
        "id": "YxlHe0FF9EmG"
      },
      "execution_count": null,
      "outputs": []
    },
    {
      "cell_type": "code",
      "source": [
        "columns = ['data_set_name','Period','additive/multiplicative','RMSE']\n",
        "info = pd.DataFrame(columns = columns)"
      ],
      "metadata": {
        "id": "6EFj_ekEjoH0"
      },
      "execution_count": null,
      "outputs": []
    },
    {
      "cell_type": "code",
      "source": [],
      "metadata": {
        "id": "zaRqZXuDjo2O"
      },
      "execution_count": null,
      "outputs": []
    },
    {
      "cell_type": "code",
      "source": [
        "dataset_name = 'RiverFlowDaily'\n",
        "train_df_pandas.to_csv(f'/content/datasets/{dataset_name}_train')\n",
        "test_df_pandas.to_csv(f'/content/datasets/{dataset_name}_test')\n",
        "leaderboard.to_csv(f'/content/datasets/{dataset_name}_leaderboard')"
      ],
      "metadata": {
        "id": "ux1e0B0gixWK"
      },
      "execution_count": null,
      "outputs": []
    },
    {
      "cell_type": "code",
      "source": [
        "row_data = {\n",
        "    'data_set_name': dataset_name,\n",
        "    'Period': period,\n",
        "    'additive/multiplicative': seasonality_result,\n",
        "    'RMSE': rmse\n",
        "}\n",
        "info = info.append(row_data, ignore_index=True)"
      ],
      "metadata": {
        "id": "61llgjMhfuQO"
      },
      "execution_count": null,
      "outputs": []
    },
    {
      "cell_type": "code",
      "source": [
        "info"
      ],
      "metadata": {
        "colab": {
          "base_uri": "https://localhost:8080/",
          "height": 81
        },
        "id": "MRLVvc5Xer_5",
        "outputId": "e1abc27d-e49e-4722-c648-4064853259e0"
      },
      "execution_count": null,
      "outputs": [
        {
          "output_type": "execute_result",
          "data": {
            "text/plain": [
              "    data_set_name Period additive/multiplicative      RMSE\n",
              "0  RiverFlowDaily     30          multiplicative  0.065827"
            ],
            "text/html": [
              "\n",
              "  <div id=\"df-acfce7ce-3b94-4b00-b0f7-89146b32d44b\">\n",
              "    <div class=\"colab-df-container\">\n",
              "      <div>\n",
              "<style scoped>\n",
              "    .dataframe tbody tr th:only-of-type {\n",
              "        vertical-align: middle;\n",
              "    }\n",
              "\n",
              "    .dataframe tbody tr th {\n",
              "        vertical-align: top;\n",
              "    }\n",
              "\n",
              "    .dataframe thead th {\n",
              "        text-align: right;\n",
              "    }\n",
              "</style>\n",
              "<table border=\"1\" class=\"dataframe\">\n",
              "  <thead>\n",
              "    <tr style=\"text-align: right;\">\n",
              "      <th></th>\n",
              "      <th>data_set_name</th>\n",
              "      <th>Period</th>\n",
              "      <th>additive/multiplicative</th>\n",
              "      <th>RMSE</th>\n",
              "    </tr>\n",
              "  </thead>\n",
              "  <tbody>\n",
              "    <tr>\n",
              "      <th>0</th>\n",
              "      <td>RiverFlowDaily</td>\n",
              "      <td>30</td>\n",
              "      <td>multiplicative</td>\n",
              "      <td>0.065827</td>\n",
              "    </tr>\n",
              "  </tbody>\n",
              "</table>\n",
              "</div>\n",
              "      <button class=\"colab-df-convert\" onclick=\"convertToInteractive('df-acfce7ce-3b94-4b00-b0f7-89146b32d44b')\"\n",
              "              title=\"Convert this dataframe to an interactive table.\"\n",
              "              style=\"display:none;\">\n",
              "        \n",
              "  <svg xmlns=\"http://www.w3.org/2000/svg\" height=\"24px\"viewBox=\"0 0 24 24\"\n",
              "       width=\"24px\">\n",
              "    <path d=\"M0 0h24v24H0V0z\" fill=\"none\"/>\n",
              "    <path d=\"M18.56 5.44l.94 2.06.94-2.06 2.06-.94-2.06-.94-.94-2.06-.94 2.06-2.06.94zm-11 1L8.5 8.5l.94-2.06 2.06-.94-2.06-.94L8.5 2.5l-.94 2.06-2.06.94zm10 10l.94 2.06.94-2.06 2.06-.94-2.06-.94-.94-2.06-.94 2.06-2.06.94z\"/><path d=\"M17.41 7.96l-1.37-1.37c-.4-.4-.92-.59-1.43-.59-.52 0-1.04.2-1.43.59L10.3 9.45l-7.72 7.72c-.78.78-.78 2.05 0 2.83L4 21.41c.39.39.9.59 1.41.59.51 0 1.02-.2 1.41-.59l7.78-7.78 2.81-2.81c.8-.78.8-2.07 0-2.86zM5.41 20L4 18.59l7.72-7.72 1.47 1.35L5.41 20z\"/>\n",
              "  </svg>\n",
              "      </button>\n",
              "      \n",
              "  <style>\n",
              "    .colab-df-container {\n",
              "      display:flex;\n",
              "      flex-wrap:wrap;\n",
              "      gap: 12px;\n",
              "    }\n",
              "\n",
              "    .colab-df-convert {\n",
              "      background-color: #E8F0FE;\n",
              "      border: none;\n",
              "      border-radius: 50%;\n",
              "      cursor: pointer;\n",
              "      display: none;\n",
              "      fill: #1967D2;\n",
              "      height: 32px;\n",
              "      padding: 0 0 0 0;\n",
              "      width: 32px;\n",
              "    }\n",
              "\n",
              "    .colab-df-convert:hover {\n",
              "      background-color: #E2EBFA;\n",
              "      box-shadow: 0px 1px 2px rgba(60, 64, 67, 0.3), 0px 1px 3px 1px rgba(60, 64, 67, 0.15);\n",
              "      fill: #174EA6;\n",
              "    }\n",
              "\n",
              "    [theme=dark] .colab-df-convert {\n",
              "      background-color: #3B4455;\n",
              "      fill: #D2E3FC;\n",
              "    }\n",
              "\n",
              "    [theme=dark] .colab-df-convert:hover {\n",
              "      background-color: #434B5C;\n",
              "      box-shadow: 0px 1px 3px 1px rgba(0, 0, 0, 0.15);\n",
              "      filter: drop-shadow(0px 1px 2px rgba(0, 0, 0, 0.3));\n",
              "      fill: #FFFFFF;\n",
              "    }\n",
              "  </style>\n",
              "\n",
              "      <script>\n",
              "        const buttonEl =\n",
              "          document.querySelector('#df-acfce7ce-3b94-4b00-b0f7-89146b32d44b button.colab-df-convert');\n",
              "        buttonEl.style.display =\n",
              "          google.colab.kernel.accessAllowed ? 'block' : 'none';\n",
              "\n",
              "        async function convertToInteractive(key) {\n",
              "          const element = document.querySelector('#df-acfce7ce-3b94-4b00-b0f7-89146b32d44b');\n",
              "          const dataTable =\n",
              "            await google.colab.kernel.invokeFunction('convertToInteractive',\n",
              "                                                     [key], {});\n",
              "          if (!dataTable) return;\n",
              "\n",
              "          const docLinkHtml = 'Like what you see? Visit the ' +\n",
              "            '<a target=\"_blank\" href=https://colab.research.google.com/notebooks/data_table.ipynb>data table notebook</a>'\n",
              "            + ' to learn more about interactive tables.';\n",
              "          element.innerHTML = '';\n",
              "          dataTable['output_type'] = 'display_data';\n",
              "          await google.colab.output.renderOutput(dataTable, element);\n",
              "          const docLink = document.createElement('div');\n",
              "          docLink.innerHTML = docLinkHtml;\n",
              "          element.appendChild(docLink);\n",
              "        }\n",
              "      </script>\n",
              "    </div>\n",
              "  </div>\n",
              "  "
            ]
          },
          "metadata": {},
          "execution_count": 110
        }
      ]
    },
    {
      "cell_type": "code",
      "source": [],
      "metadata": {
        "id": "1a5wQXCcmNMF"
      },
      "execution_count": null,
      "outputs": []
    },
    {
      "cell_type": "markdown",
      "source": [
        "# second data"
      ],
      "metadata": {
        "id": "Qjamo1S5mSfc"
      }
    },
    {
      "cell_type": "code",
      "source": [
        "path = '/content/drive/MyDrive/Auto-Ml-Project/Datasets/Time Series Data - ITI/Univariate/USBirthsDaily.csv'"
      ],
      "metadata": {
        "id": "6G492qmzmOR5"
      },
      "execution_count": null,
      "outputs": []
    },
    {
      "cell_type": "code",
      "source": [
        "timestamp = 'Timestamp'\n",
        "target_col = 'USBirths'\n",
        "dataset_name = 'USBirthsDaily'\n",
        "period = 30"
      ],
      "metadata": {
        "id": "1B3ZyGh8mUrf"
      },
      "execution_count": null,
      "outputs": []
    },
    {
      "cell_type": "code",
      "source": [
        "train_df_pandas,test_df_pandas,leaderboard,seasonality_result,rmse =apply_pipeline(path,timestamp,target_col)"
      ],
      "metadata": {
        "id": "mprF-0eDmUrl"
      },
      "execution_count": null,
      "outputs": []
    },
    {
      "cell_type": "code",
      "source": [
        "train_df_pandas.to_csv(f'/content/datasets/{dataset_name}_train')\n",
        "test_df_pandas.to_csv(f'/content/datasets/{dataset_name}_test')\n",
        "leaderboard.to_csv(f'/content/datasets/{dataset_name}_leaderboard')"
      ],
      "metadata": {
        "id": "Vt8CRRHXmUrm"
      },
      "execution_count": null,
      "outputs": []
    },
    {
      "cell_type": "code",
      "source": [
        "row_data = {\n",
        "    'data_set_name': dataset_name,\n",
        "    'Period': period,\n",
        "    'additive/multiplicative': seasonality_result,\n",
        "    'RMSE': rmse\n",
        "}\n",
        "info = info.append(row_data, ignore_index=True)"
      ],
      "metadata": {
        "id": "_D_iflEymUrm"
      },
      "execution_count": null,
      "outputs": []
    },
    {
      "cell_type": "code",
      "source": [
        "info"
      ],
      "metadata": {
        "colab": {
          "base_uri": "https://localhost:8080/",
          "height": 112
        },
        "outputId": "216dc05c-7530-4508-c270-a69dec6da7f6",
        "id": "wgqaLe1EmUrm"
      },
      "execution_count": null,
      "outputs": [
        {
          "output_type": "execute_result",
          "data": {
            "text/plain": [
              "    data_set_name Period additive/multiplicative        RMSE\n",
              "0  RiverFlowDaily     30          multiplicative    0.065827\n",
              "1   USBirthsDaily     30          multiplicative  328.441046"
            ],
            "text/html": [
              "\n",
              "  <div id=\"df-73784722-6067-4b13-b670-efc1d617c87b\">\n",
              "    <div class=\"colab-df-container\">\n",
              "      <div>\n",
              "<style scoped>\n",
              "    .dataframe tbody tr th:only-of-type {\n",
              "        vertical-align: middle;\n",
              "    }\n",
              "\n",
              "    .dataframe tbody tr th {\n",
              "        vertical-align: top;\n",
              "    }\n",
              "\n",
              "    .dataframe thead th {\n",
              "        text-align: right;\n",
              "    }\n",
              "</style>\n",
              "<table border=\"1\" class=\"dataframe\">\n",
              "  <thead>\n",
              "    <tr style=\"text-align: right;\">\n",
              "      <th></th>\n",
              "      <th>data_set_name</th>\n",
              "      <th>Period</th>\n",
              "      <th>additive/multiplicative</th>\n",
              "      <th>RMSE</th>\n",
              "    </tr>\n",
              "  </thead>\n",
              "  <tbody>\n",
              "    <tr>\n",
              "      <th>0</th>\n",
              "      <td>RiverFlowDaily</td>\n",
              "      <td>30</td>\n",
              "      <td>multiplicative</td>\n",
              "      <td>0.065827</td>\n",
              "    </tr>\n",
              "    <tr>\n",
              "      <th>1</th>\n",
              "      <td>USBirthsDaily</td>\n",
              "      <td>30</td>\n",
              "      <td>multiplicative</td>\n",
              "      <td>328.441046</td>\n",
              "    </tr>\n",
              "  </tbody>\n",
              "</table>\n",
              "</div>\n",
              "      <button class=\"colab-df-convert\" onclick=\"convertToInteractive('df-73784722-6067-4b13-b670-efc1d617c87b')\"\n",
              "              title=\"Convert this dataframe to an interactive table.\"\n",
              "              style=\"display:none;\">\n",
              "        \n",
              "  <svg xmlns=\"http://www.w3.org/2000/svg\" height=\"24px\"viewBox=\"0 0 24 24\"\n",
              "       width=\"24px\">\n",
              "    <path d=\"M0 0h24v24H0V0z\" fill=\"none\"/>\n",
              "    <path d=\"M18.56 5.44l.94 2.06.94-2.06 2.06-.94-2.06-.94-.94-2.06-.94 2.06-2.06.94zm-11 1L8.5 8.5l.94-2.06 2.06-.94-2.06-.94L8.5 2.5l-.94 2.06-2.06.94zm10 10l.94 2.06.94-2.06 2.06-.94-2.06-.94-.94-2.06-.94 2.06-2.06.94z\"/><path d=\"M17.41 7.96l-1.37-1.37c-.4-.4-.92-.59-1.43-.59-.52 0-1.04.2-1.43.59L10.3 9.45l-7.72 7.72c-.78.78-.78 2.05 0 2.83L4 21.41c.39.39.9.59 1.41.59.51 0 1.02-.2 1.41-.59l7.78-7.78 2.81-2.81c.8-.78.8-2.07 0-2.86zM5.41 20L4 18.59l7.72-7.72 1.47 1.35L5.41 20z\"/>\n",
              "  </svg>\n",
              "      </button>\n",
              "      \n",
              "  <style>\n",
              "    .colab-df-container {\n",
              "      display:flex;\n",
              "      flex-wrap:wrap;\n",
              "      gap: 12px;\n",
              "    }\n",
              "\n",
              "    .colab-df-convert {\n",
              "      background-color: #E8F0FE;\n",
              "      border: none;\n",
              "      border-radius: 50%;\n",
              "      cursor: pointer;\n",
              "      display: none;\n",
              "      fill: #1967D2;\n",
              "      height: 32px;\n",
              "      padding: 0 0 0 0;\n",
              "      width: 32px;\n",
              "    }\n",
              "\n",
              "    .colab-df-convert:hover {\n",
              "      background-color: #E2EBFA;\n",
              "      box-shadow: 0px 1px 2px rgba(60, 64, 67, 0.3), 0px 1px 3px 1px rgba(60, 64, 67, 0.15);\n",
              "      fill: #174EA6;\n",
              "    }\n",
              "\n",
              "    [theme=dark] .colab-df-convert {\n",
              "      background-color: #3B4455;\n",
              "      fill: #D2E3FC;\n",
              "    }\n",
              "\n",
              "    [theme=dark] .colab-df-convert:hover {\n",
              "      background-color: #434B5C;\n",
              "      box-shadow: 0px 1px 3px 1px rgba(0, 0, 0, 0.15);\n",
              "      filter: drop-shadow(0px 1px 2px rgba(0, 0, 0, 0.3));\n",
              "      fill: #FFFFFF;\n",
              "    }\n",
              "  </style>\n",
              "\n",
              "      <script>\n",
              "        const buttonEl =\n",
              "          document.querySelector('#df-73784722-6067-4b13-b670-efc1d617c87b button.colab-df-convert');\n",
              "        buttonEl.style.display =\n",
              "          google.colab.kernel.accessAllowed ? 'block' : 'none';\n",
              "\n",
              "        async function convertToInteractive(key) {\n",
              "          const element = document.querySelector('#df-73784722-6067-4b13-b670-efc1d617c87b');\n",
              "          const dataTable =\n",
              "            await google.colab.kernel.invokeFunction('convertToInteractive',\n",
              "                                                     [key], {});\n",
              "          if (!dataTable) return;\n",
              "\n",
              "          const docLinkHtml = 'Like what you see? Visit the ' +\n",
              "            '<a target=\"_blank\" href=https://colab.research.google.com/notebooks/data_table.ipynb>data table notebook</a>'\n",
              "            + ' to learn more about interactive tables.';\n",
              "          element.innerHTML = '';\n",
              "          dataTable['output_type'] = 'display_data';\n",
              "          await google.colab.output.renderOutput(dataTable, element);\n",
              "          const docLink = document.createElement('div');\n",
              "          docLink.innerHTML = docLinkHtml;\n",
              "          element.appendChild(docLink);\n",
              "        }\n",
              "      </script>\n",
              "    </div>\n",
              "  </div>\n",
              "  "
            ]
          },
          "metadata": {},
          "execution_count": 117
        }
      ]
    },
    {
      "cell_type": "code",
      "source": [],
      "metadata": {
        "id": "Y5VUYBfMmOVA"
      },
      "execution_count": null,
      "outputs": []
    },
    {
      "cell_type": "markdown",
      "source": [
        "# third"
      ],
      "metadata": {
        "id": "hmvzJhmqm11Q"
      }
    },
    {
      "cell_type": "code",
      "source": [],
      "metadata": {
        "id": "VLCNw-1umOYC"
      },
      "execution_count": null,
      "outputs": []
    },
    {
      "cell_type": "code",
      "source": [
        "path = '/content/drive/MyDrive/Auto-Ml-Project/Datasets/Time Series Data - ITI/Univariate/daily-female-births.csv'"
      ],
      "metadata": {
        "id": "4q1PEwi9ne2f"
      },
      "execution_count": null,
      "outputs": []
    },
    {
      "cell_type": "code",
      "source": [
        "dff = pd.read_csv(path)\n",
        "dff"
      ],
      "metadata": {
        "id": "XveffN6tne2p"
      },
      "execution_count": null,
      "outputs": []
    },
    {
      "cell_type": "code",
      "source": [
        "timestamp = 'Timestamp'\n",
        "target_col = 'Births'\n",
        "dataset_name = 'daily-female-births'\n",
        "period =30"
      ],
      "metadata": {
        "id": "KFsS8C4one2p"
      },
      "execution_count": null,
      "outputs": []
    },
    {
      "cell_type": "code",
      "source": [
        "train_df_pandas,test_df_pandas,leaderboard,seasonality_result,rmse =apply_pipeline(path,timestamp,target_col)"
      ],
      "metadata": {
        "id": "8AA1IewAne2p"
      },
      "execution_count": null,
      "outputs": []
    },
    {
      "cell_type": "code",
      "source": [
        "train_df_pandas.to_csv(f'/content/datasets/{dataset_name}_train')\n",
        "test_df_pandas.to_csv(f'/content/datasets/{dataset_name}_test')\n",
        "leaderboard.to_csv(f'/content/datasets/{dataset_name}_leaderboard')"
      ],
      "metadata": {
        "id": "S0a5A8yQne2q"
      },
      "execution_count": null,
      "outputs": []
    },
    {
      "cell_type": "code",
      "source": [
        "row_data = {\n",
        "    'data_set_name': dataset_name,\n",
        "    'Period': period,\n",
        "    'additive/multiplicative': seasonality_result,\n",
        "    'RMSE': rmse\n",
        "}\n",
        "info = info.append(row_data, ignore_index=True)"
      ],
      "metadata": {
        "id": "rK-8CTKine2q"
      },
      "execution_count": null,
      "outputs": []
    },
    {
      "cell_type": "code",
      "source": [
        "info"
      ],
      "metadata": {
        "colab": {
          "base_uri": "https://localhost:8080/",
          "height": 143
        },
        "outputId": "5d3effd5-7a2e-491a-bb81-4eb4f90637aa",
        "id": "MHzKxS3one2q"
      },
      "execution_count": null,
      "outputs": [
        {
          "output_type": "execute_result",
          "data": {
            "text/plain": [
              "         data_set_name Period additive/multiplicative        RMSE\n",
              "0       RiverFlowDaily     30          multiplicative    0.065827\n",
              "1        USBirthsDaily     30          multiplicative  328.441046\n",
              "2  daily-female-births     30          multiplicative    0.012983"
            ],
            "text/html": [
              "\n",
              "  <div id=\"df-5bd98d83-6a24-44d4-926b-c58d7deb9b97\">\n",
              "    <div class=\"colab-df-container\">\n",
              "      <div>\n",
              "<style scoped>\n",
              "    .dataframe tbody tr th:only-of-type {\n",
              "        vertical-align: middle;\n",
              "    }\n",
              "\n",
              "    .dataframe tbody tr th {\n",
              "        vertical-align: top;\n",
              "    }\n",
              "\n",
              "    .dataframe thead th {\n",
              "        text-align: right;\n",
              "    }\n",
              "</style>\n",
              "<table border=\"1\" class=\"dataframe\">\n",
              "  <thead>\n",
              "    <tr style=\"text-align: right;\">\n",
              "      <th></th>\n",
              "      <th>data_set_name</th>\n",
              "      <th>Period</th>\n",
              "      <th>additive/multiplicative</th>\n",
              "      <th>RMSE</th>\n",
              "    </tr>\n",
              "  </thead>\n",
              "  <tbody>\n",
              "    <tr>\n",
              "      <th>0</th>\n",
              "      <td>RiverFlowDaily</td>\n",
              "      <td>30</td>\n",
              "      <td>multiplicative</td>\n",
              "      <td>0.065827</td>\n",
              "    </tr>\n",
              "    <tr>\n",
              "      <th>1</th>\n",
              "      <td>USBirthsDaily</td>\n",
              "      <td>30</td>\n",
              "      <td>multiplicative</td>\n",
              "      <td>328.441046</td>\n",
              "    </tr>\n",
              "    <tr>\n",
              "      <th>2</th>\n",
              "      <td>daily-female-births</td>\n",
              "      <td>30</td>\n",
              "      <td>multiplicative</td>\n",
              "      <td>0.012983</td>\n",
              "    </tr>\n",
              "  </tbody>\n",
              "</table>\n",
              "</div>\n",
              "      <button class=\"colab-df-convert\" onclick=\"convertToInteractive('df-5bd98d83-6a24-44d4-926b-c58d7deb9b97')\"\n",
              "              title=\"Convert this dataframe to an interactive table.\"\n",
              "              style=\"display:none;\">\n",
              "        \n",
              "  <svg xmlns=\"http://www.w3.org/2000/svg\" height=\"24px\"viewBox=\"0 0 24 24\"\n",
              "       width=\"24px\">\n",
              "    <path d=\"M0 0h24v24H0V0z\" fill=\"none\"/>\n",
              "    <path d=\"M18.56 5.44l.94 2.06.94-2.06 2.06-.94-2.06-.94-.94-2.06-.94 2.06-2.06.94zm-11 1L8.5 8.5l.94-2.06 2.06-.94-2.06-.94L8.5 2.5l-.94 2.06-2.06.94zm10 10l.94 2.06.94-2.06 2.06-.94-2.06-.94-.94-2.06-.94 2.06-2.06.94z\"/><path d=\"M17.41 7.96l-1.37-1.37c-.4-.4-.92-.59-1.43-.59-.52 0-1.04.2-1.43.59L10.3 9.45l-7.72 7.72c-.78.78-.78 2.05 0 2.83L4 21.41c.39.39.9.59 1.41.59.51 0 1.02-.2 1.41-.59l7.78-7.78 2.81-2.81c.8-.78.8-2.07 0-2.86zM5.41 20L4 18.59l7.72-7.72 1.47 1.35L5.41 20z\"/>\n",
              "  </svg>\n",
              "      </button>\n",
              "      \n",
              "  <style>\n",
              "    .colab-df-container {\n",
              "      display:flex;\n",
              "      flex-wrap:wrap;\n",
              "      gap: 12px;\n",
              "    }\n",
              "\n",
              "    .colab-df-convert {\n",
              "      background-color: #E8F0FE;\n",
              "      border: none;\n",
              "      border-radius: 50%;\n",
              "      cursor: pointer;\n",
              "      display: none;\n",
              "      fill: #1967D2;\n",
              "      height: 32px;\n",
              "      padding: 0 0 0 0;\n",
              "      width: 32px;\n",
              "    }\n",
              "\n",
              "    .colab-df-convert:hover {\n",
              "      background-color: #E2EBFA;\n",
              "      box-shadow: 0px 1px 2px rgba(60, 64, 67, 0.3), 0px 1px 3px 1px rgba(60, 64, 67, 0.15);\n",
              "      fill: #174EA6;\n",
              "    }\n",
              "\n",
              "    [theme=dark] .colab-df-convert {\n",
              "      background-color: #3B4455;\n",
              "      fill: #D2E3FC;\n",
              "    }\n",
              "\n",
              "    [theme=dark] .colab-df-convert:hover {\n",
              "      background-color: #434B5C;\n",
              "      box-shadow: 0px 1px 3px 1px rgba(0, 0, 0, 0.15);\n",
              "      filter: drop-shadow(0px 1px 2px rgba(0, 0, 0, 0.3));\n",
              "      fill: #FFFFFF;\n",
              "    }\n",
              "  </style>\n",
              "\n",
              "      <script>\n",
              "        const buttonEl =\n",
              "          document.querySelector('#df-5bd98d83-6a24-44d4-926b-c58d7deb9b97 button.colab-df-convert');\n",
              "        buttonEl.style.display =\n",
              "          google.colab.kernel.accessAllowed ? 'block' : 'none';\n",
              "\n",
              "        async function convertToInteractive(key) {\n",
              "          const element = document.querySelector('#df-5bd98d83-6a24-44d4-926b-c58d7deb9b97');\n",
              "          const dataTable =\n",
              "            await google.colab.kernel.invokeFunction('convertToInteractive',\n",
              "                                                     [key], {});\n",
              "          if (!dataTable) return;\n",
              "\n",
              "          const docLinkHtml = 'Like what you see? Visit the ' +\n",
              "            '<a target=\"_blank\" href=https://colab.research.google.com/notebooks/data_table.ipynb>data table notebook</a>'\n",
              "            + ' to learn more about interactive tables.';\n",
              "          element.innerHTML = '';\n",
              "          dataTable['output_type'] = 'display_data';\n",
              "          await google.colab.output.renderOutput(dataTable, element);\n",
              "          const docLink = document.createElement('div');\n",
              "          docLink.innerHTML = docLinkHtml;\n",
              "          element.appendChild(docLink);\n",
              "        }\n",
              "      </script>\n",
              "    </div>\n",
              "  </div>\n",
              "  "
            ]
          },
          "metadata": {},
          "execution_count": 125
        }
      ]
    },
    {
      "cell_type": "code",
      "source": [],
      "metadata": {
        "id": "w3bPWuCtmObH"
      },
      "execution_count": null,
      "outputs": []
    },
    {
      "cell_type": "code",
      "source": [],
      "metadata": {
        "id": "MTVcD_OjpA9p"
      },
      "execution_count": null,
      "outputs": []
    },
    {
      "cell_type": "code",
      "source": [],
      "metadata": {
        "id": "DMPpXO9SmQH3"
      },
      "execution_count": null,
      "outputs": []
    },
    {
      "cell_type": "code",
      "source": [],
      "metadata": {
        "id": "8Ys5OFremfEh"
      },
      "execution_count": null,
      "outputs": []
    },
    {
      "cell_type": "code",
      "source": [],
      "metadata": {
        "id": "DvCyQ8p8mfH1"
      },
      "execution_count": null,
      "outputs": []
    },
    {
      "cell_type": "code",
      "source": [],
      "metadata": {
        "id": "xJ1j-qLBmfKW"
      },
      "execution_count": null,
      "outputs": []
    }
  ]
}